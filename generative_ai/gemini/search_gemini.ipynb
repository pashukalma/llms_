{
  "nbformat": 4,
  "nbformat_minor": 0,
  "metadata": {
    "colab": {
      "provenance": []
    },
    "kernelspec": {
      "name": "python3",
      "display_name": "Python 3"
    },
    "language_info": {
      "name": "python"
    }
  },
  "cells": [
    {
      "cell_type": "code",
      "execution_count": null,
      "metadata": {
        "id": "TSIE-uRcsrRH"
      },
      "outputs": [],
      "source": [
        "!pip install -U -q \"google-generativeai>=0.7.2\""
      ]
    },
    {
      "cell_type": "code",
      "source": [
        "import time\n",
        "import google.generativeai as genai\n",
        "from IPython.display import Markdown, HTML, display\n",
        "\n",
        "import cv2\n",
        "import matplotlib.pyplot as plt\n",
        "from google.colab import userdata\n",
        "api_key = userdata.get('GOOGLE_API_KEY')\n",
        "\n",
        "genai.configure(api_key=api_key)"
      ],
      "metadata": {
        "id": "R1qfxTlbe_lP"
      },
      "execution_count": null,
      "outputs": []
    },
    {
      "cell_type": "markdown",
      "source": [
        "#### Search"
      ],
      "metadata": {
        "id": "kgsSaUeZZeGa"
      }
    },
    {
      "cell_type": "code",
      "source": [
        "for model in genai.list_models():\n",
        "  if '002' in model.name: print(model.name)"
      ],
      "metadata": {
        "colab": {
          "base_uri": "https://localhost:8080/",
          "height": 71
        },
        "id": "kWp93QcuUzNx",
        "outputId": "1d08b029-b7b2-4cbe-fb1d-8d3262d36861"
      },
      "execution_count": null,
      "outputs": [
        {
          "output_type": "stream",
          "name": "stdout",
          "text": [
            "models/gemini-1.5-pro-002\n",
            "models/gemini-1.5-flash-002\n",
            "models/imagen-3.0-generate-002\n"
          ]
        }
      ]
    },
    {
      "cell_type": "code",
      "source": [
        "''' Search grounding '''\n",
        "model = genai.GenerativeModel('gemini-1.5-flash-002')\n",
        "response = model.generate_content('SF tech week very brief')\n",
        "display(response.text)"
      ],
      "metadata": {
        "colab": {
          "base_uri": "https://localhost:8080/",
          "height": 71
        },
        "id": "Jqw252qLUzWm",
        "outputId": "43eb7e5a-7d1c-49b5-c8e9-472b92765bbb"
      },
      "execution_count": null,
      "outputs": [
        {
          "output_type": "display_data",
          "data": {
            "text/plain": [
              "'SF Tech Week is a large-scale technology event held annually in San Francisco, featuring conferences, workshops, networking events, and more, showcasing the latest advancements and trends in the tech industry.  It attracts a global audience of professionals, investors, and enthusiasts.\\n'"
            ],
            "application/vnd.google.colaboratory.intrinsic+json": {
              "type": "string"
            }
          },
          "metadata": {}
        }
      ]
    },
    {
      "cell_type": "code",
      "source": [
        "model = genai.GenerativeModel('gemini-1.5-flash-002', tools='google_search_retrieval')\n",
        "response = model.generate_content('When and where is SF tech week')\n",
        "resp = response.candidates[0]\n",
        "print(resp.content.parts[0])"
      ],
      "metadata": {
        "colab": {
          "base_uri": "https://localhost:8080/",
          "height": 73
        },
        "id": "ejjgX5RmUzgf",
        "outputId": "cfc26f48-e3cc-4b40-fe35-3958193c1393"
      },
      "execution_count": null,
      "outputs": [
        {
          "output_type": "stream",
          "name": "stdout",
          "text": [
            "text: \"Based on the provided text, San Francisco Tech Week in 2024 took place from October 7th to October 13th.  For 2025, it is scheduled for October 6th to October 12th.  \\n\\nSeveral sources mention specific events within the larger Tech Week framework,  occurring at various locations across San Francisco.  The events themselves are organized by a number of venture capitalists, entrepreneurs, and community leaders in the Bay Area, not by a single entity.  The SOMA district is suggested as a good place to stay due to its proximity to many events.  The nature of events varies, including fireside chats, panels, and workshops.\\n\"\n",
            "\n"
          ]
        }
      ]
    },
    {
      "cell_type": "code",
      "source": [
        "Markdown(resp.content.parts[0].text)"
      ],
      "metadata": {
        "colab": {
          "base_uri": "https://localhost:8080/",
          "height": 122
        },
        "id": "jLNBBqzEUzjO",
        "outputId": "a71577c9-3509-4f86-a77a-1f47f2a84fa8"
      },
      "execution_count": null,
      "outputs": [
        {
          "output_type": "execute_result",
          "data": {
            "text/plain": [
              "<IPython.core.display.Markdown object>"
            ],
            "text/markdown": "Based on the provided text, San Francisco Tech Week in 2024 took place from October 7th to October 13th.  For 2025, it is scheduled for October 6th to October 12th.  \n\nSeveral sources mention specific events within the larger Tech Week framework,  occurring at various locations across San Francisco.  The events themselves are organized by a number of venture capitalists, entrepreneurs, and community leaders in the Bay Area, not by a single entity.  The SOMA district is suggested as a good place to stay due to its proximity to many events.  The nature of events varies, including fireside chats, panels, and workshops.\n"
          },
          "metadata": {},
          "execution_count": 13
        }
      ]
    },
    {
      "cell_type": "code",
      "source": [
        "chunks = resp.grounding_metadata.grounding_chunks\n",
        "for chunk in chunks: print(chunk)"
      ],
      "metadata": {
        "colab": {
          "base_uri": "https://localhost:8080/"
        },
        "id": "ckVAemElUzl8",
        "outputId": "8e473e9b-0b18-4633-bd3f-6d5d05685f8b"
      },
      "execution_count": null,
      "outputs": [
        {
          "output_type": "stream",
          "name": "stdout",
          "text": [
            "web {\n",
            "  uri: \"https://vertexaisearch.cloud.google.com/grounding-api-redirect/AQXblrxJdyfnSr9w62lqgRcVAehx5Xhfb6CVvPh_Yr25kGLbIHuRadDGR6nLO81krpAF6bG7wNJ8oaNT6MLCgFuhB0258_mtikJ2bjkPDJtfcm-pKSixwdMqMORw76E01iaOemq6Xk5-Isx7L0If8mCw1_79hxxFN1xHYRP8epGH3Q==\"\n",
            "  title: \"grayarea.org\"\n",
            "}\n",
            "\n",
            "web {\n",
            "  uri: \"https://vertexaisearch.cloud.google.com/grounding-api-redirect/AQXblrzRkMAR8GGZ84KFxWbbYNXV8VZIBmvrEyUPBs4Z4j0dK8r2lkhgRnaMQT-eRxn0gU3COgZiZFUm_Sj3-VL8c1SMDb_iRUNVG422XxWbF5ApCgRIAn8w\"\n",
            "  title: \"tech-week.com\"\n",
            "}\n",
            "\n",
            "web {\n",
            "  uri: \"https://vertexaisearch.cloud.google.com/grounding-api-redirect/AQXblrwGx-DoAdNyrUbae8swBh6a3ps7WgXFfXcfD8a-yf-3XEt075fTFjyA-Kdd4cShs8vmDdgCn8c6tnA1iEJUVkd-56OdPOit2rheTXmT4EAMkagP1w==\"\n",
            "  title: \"sf-techweek.com\"\n",
            "}\n",
            "\n"
          ]
        }
      ]
    },
    {
      "cell_type": "code",
      "source": [
        "HTML(resp.grounding_metadata.search_entry_point.rendered_content)"
      ],
      "metadata": {
        "colab": {
          "base_uri": "https://localhost:8080/",
          "height": 65
        },
        "id": "5BD0oUcBUznh",
        "outputId": "128fe369-88f5-4b97-ea3c-925ad0f965fe"
      },
      "execution_count": null,
      "outputs": [
        {
          "output_type": "execute_result",
          "data": {
            "text/plain": [
              "<IPython.core.display.HTML object>"
            ],
            "text/html": [
              "<style>\n",
              ".container {\n",
              "  align-items: center;\n",
              "  border-radius: 8px;\n",
              "  display: flex;\n",
              "  font-family: Google Sans, Roboto, sans-serif;\n",
              "  font-size: 14px;\n",
              "  line-height: 20px;\n",
              "  padding: 8px 12px;\n",
              "}\n",
              ".chip {\n",
              "  display: inline-block;\n",
              "  border: solid 1px;\n",
              "  border-radius: 16px;\n",
              "  min-width: 14px;\n",
              "  padding: 5px 16px;\n",
              "  text-align: center;\n",
              "  user-select: none;\n",
              "  margin: 0 8px;\n",
              "  -webkit-tap-highlight-color: transparent;\n",
              "}\n",
              ".carousel {\n",
              "  overflow: auto;\n",
              "  scrollbar-width: none;\n",
              "  white-space: nowrap;\n",
              "  margin-right: -12px;\n",
              "}\n",
              ".headline {\n",
              "  display: flex;\n",
              "  margin-right: 4px;\n",
              "}\n",
              ".gradient-container {\n",
              "  position: relative;\n",
              "}\n",
              ".gradient {\n",
              "  position: absolute;\n",
              "  transform: translate(3px, -9px);\n",
              "  height: 36px;\n",
              "  width: 9px;\n",
              "}\n",
              "@media (prefers-color-scheme: light) {\n",
              "  .container {\n",
              "    background-color: #fafafa;\n",
              "    box-shadow: 0 0 0 1px #0000000f;\n",
              "  }\n",
              "  .headline-label {\n",
              "    color: #1f1f1f;\n",
              "  }\n",
              "  .chip {\n",
              "    background-color: #ffffff;\n",
              "    border-color: #d2d2d2;\n",
              "    color: #5e5e5e;\n",
              "    text-decoration: none;\n",
              "  }\n",
              "  .chip:hover {\n",
              "    background-color: #f2f2f2;\n",
              "  }\n",
              "  .chip:focus {\n",
              "    background-color: #f2f2f2;\n",
              "  }\n",
              "  .chip:active {\n",
              "    background-color: #d8d8d8;\n",
              "    border-color: #b6b6b6;\n",
              "  }\n",
              "  .logo-dark {\n",
              "    display: none;\n",
              "  }\n",
              "  .gradient {\n",
              "    background: linear-gradient(90deg, #fafafa 15%, #fafafa00 100%);\n",
              "  }\n",
              "}\n",
              "@media (prefers-color-scheme: dark) {\n",
              "  .container {\n",
              "    background-color: #1f1f1f;\n",
              "    box-shadow: 0 0 0 1px #ffffff26;\n",
              "  }\n",
              "  .headline-label {\n",
              "    color: #fff;\n",
              "  }\n",
              "  .chip {\n",
              "    background-color: #2c2c2c;\n",
              "    border-color: #3c4043;\n",
              "    color: #fff;\n",
              "    text-decoration: none;\n",
              "  }\n",
              "  .chip:hover {\n",
              "    background-color: #353536;\n",
              "  }\n",
              "  .chip:focus {\n",
              "    background-color: #353536;\n",
              "  }\n",
              "  .chip:active {\n",
              "    background-color: #464849;\n",
              "    border-color: #53575b;\n",
              "  }\n",
              "  .logo-light {\n",
              "    display: none;\n",
              "  }\n",
              "  .gradient {\n",
              "    background: linear-gradient(90deg, #1f1f1f 15%, #1f1f1f00 100%);\n",
              "  }\n",
              "}\n",
              "</style>\n",
              "<div class=\"container\">\n",
              "  <div class=\"headline\">\n",
              "    <svg class=\"logo-light\" width=\"18\" height=\"18\" viewBox=\"9 9 35 35\" fill=\"none\" xmlns=\"http://www.w3.org/2000/svg\">\n",
              "      <path fill-rule=\"evenodd\" clip-rule=\"evenodd\" d=\"M42.8622 27.0064C42.8622 25.7839 42.7525 24.6084 42.5487 23.4799H26.3109V30.1568H35.5897C35.1821 32.3041 33.9596 34.1222 32.1258 35.3448V39.6864H37.7213C40.9814 36.677 42.8622 32.2571 42.8622 27.0064V27.0064Z\" fill=\"#4285F4\"/>\n",
              "      <path fill-rule=\"evenodd\" clip-rule=\"evenodd\" d=\"M26.3109 43.8555C30.9659 43.8555 34.8687 42.3195 37.7213 39.6863L32.1258 35.3447C30.5898 36.3792 28.6306 37.0061 26.3109 37.0061C21.8282 37.0061 18.0195 33.9811 16.6559 29.906H10.9194V34.3573C13.7563 39.9841 19.5712 43.8555 26.3109 43.8555V43.8555Z\" fill=\"#34A853\"/>\n",
              "      <path fill-rule=\"evenodd\" clip-rule=\"evenodd\" d=\"M16.6559 29.8904C16.3111 28.8559 16.1074 27.7588 16.1074 26.6146C16.1074 25.4704 16.3111 24.3733 16.6559 23.3388V18.8875H10.9194C9.74388 21.2072 9.06992 23.8247 9.06992 26.6146C9.06992 29.4045 9.74388 32.022 10.9194 34.3417L15.3864 30.8621L16.6559 29.8904V29.8904Z\" fill=\"#FBBC05\"/>\n",
              "      <path fill-rule=\"evenodd\" clip-rule=\"evenodd\" d=\"M26.3109 16.2386C28.85 16.2386 31.107 17.1164 32.9095 18.8091L37.8466 13.8719C34.853 11.082 30.9659 9.3736 26.3109 9.3736C19.5712 9.3736 13.7563 13.245 10.9194 18.8875L16.6559 23.3388C18.0195 19.2636 21.8282 16.2386 26.3109 16.2386V16.2386Z\" fill=\"#EA4335\"/>\n",
              "    </svg>\n",
              "    <svg class=\"logo-dark\" width=\"18\" height=\"18\" viewBox=\"0 0 48 48\" xmlns=\"http://www.w3.org/2000/svg\">\n",
              "      <circle cx=\"24\" cy=\"23\" fill=\"#FFF\" r=\"22\"/>\n",
              "      <path d=\"M33.76 34.26c2.75-2.56 4.49-6.37 4.49-11.26 0-.89-.08-1.84-.29-3H24.01v5.99h8.03c-.4 2.02-1.5 3.56-3.07 4.56v.75l3.91 2.97h.88z\" fill=\"#4285F4\"/>\n",
              "      <path d=\"M15.58 25.77A8.845 8.845 0 0 0 24 31.86c1.92 0 3.62-.46 4.97-1.31l4.79 3.71C31.14 36.7 27.65 38 24 38c-5.93 0-11.01-3.4-13.45-8.36l.17-1.01 4.06-2.85h.8z\" fill=\"#34A853\"/>\n",
              "      <path d=\"M15.59 20.21a8.864 8.864 0 0 0 0 5.58l-5.03 3.86c-.98-2-1.53-4.25-1.53-6.64 0-2.39.55-4.64 1.53-6.64l1-.22 3.81 2.98.22 1.08z\" fill=\"#FBBC05\"/>\n",
              "      <path d=\"M24 14.14c2.11 0 4.02.75 5.52 1.98l4.36-4.36C31.22 9.43 27.81 8 24 8c-5.93 0-11.01 3.4-13.45 8.36l5.03 3.85A8.86 8.86 0 0 1 24 14.14z\" fill=\"#EA4335\"/>\n",
              "    </svg>\n",
              "    <div class=\"gradient-container\"><div class=\"gradient\"></div></div>\n",
              "  </div>\n",
              "  <div class=\"carousel\">\n",
              "    <a class=\"chip\" href=\"https://vertexaisearch.cloud.google.com/grounding-api-redirect/AQXblryQQMSzHBEXI9g5Bu4C7D6oE54m6sXHhnwKodIx8x-GtSxQBRfN92SF4kUWtL0uMgntfEq6M-VUOYlU1_vduSHRZvgFXyLmWllREhGZpYQ5XkyYVgktb9JL2lowReEiX1bqrk5omqef1FcyrAw9jn8QpwGhjoxVIKjlJYmtyV__z9EAxvLvfQ1Hsl04f8IYKwcL-FzBshsEwA==\">where is SF tech week</a>\n",
              "    <a class=\"chip\" href=\"https://vertexaisearch.cloud.google.com/grounding-api-redirect/AQXblrzhJGMvrWDuiON7KjibRZJp-d4d6yyERSjh2aGZYOAAOzIRhBAZnEosXgZZHaaFyAzpYbsQXM3zo41mTJgiKPOkYj-b4JojhNHW3H5PvBu9qex3kjzpqV0WcroxBQSDW9Mn_5-cdCv9AY4s42XmDr9oKcZ4Vzym82odIlsUAwzlw7EfVqL5qy4LA9ovyconnrY91fKNFk81\">when is SF tech week</a>\n",
              "  </div>\n",
              "</div>\n"
            ]
          },
          "metadata": {},
          "execution_count": 15
        }
      ]
    },
    {
      "cell_type": "code",
      "source": [
        "supports = resp.grounding_metadata.grounding_supports\n",
        "for support in supports:\n",
        "  print(support)"
      ],
      "metadata": {
        "colab": {
          "base_uri": "https://localhost:8080/"
        },
        "id": "sarciCrnUz2k",
        "outputId": "48042aac-05af-4d58-e9b0-ca1826fe694b"
      },
      "execution_count": null,
      "outputs": [
        {
          "output_type": "stream",
          "name": "stdout",
          "text": [
            "segment {\n",
            "  end_index: 104\n",
            "  text: \"Based on the provided text, San Francisco Tech Week in 2024 took place from October 7th to October 13th.\"\n",
            "}\n",
            "grounding_chunk_indices: 0\n",
            "confidence_scores: 0.897299\n",
            "\n",
            "segment {\n",
            "  start_index: 106\n",
            "  end_index: 164\n",
            "  text: \"For 2025, it is scheduled for October 6th to October 12th.\"\n",
            "}\n",
            "grounding_chunk_indices: 1\n",
            "confidence_scores: 0.775663\n",
            "\n",
            "segment {\n",
            "  start_index: 453\n",
            "  end_index: 544\n",
            "  text: \"The SOMA district is suggested as a good place to stay due to its proximity to many events.\"\n",
            "}\n",
            "grounding_chunk_indices: 2\n",
            "confidence_scores: 0.902794838\n",
            "\n",
            "segment {\n",
            "  start_index: 546\n",
            "  end_index: 623\n",
            "  text: \"The nature of events varies, including fireside chats, panels, and workshops.\"\n",
            "}\n",
            "grounding_chunk_indices: 2\n",
            "confidence_scores: 0.989756167\n",
            "\n"
          ]
        }
      ]
    },
    {
      "cell_type": "code",
      "source": [
        "import io\n",
        "markdown_buffer = io.StringIO()\n",
        "markdown_buffer.write('Supported text: \\n\\n')\n",
        "for support in supports:\n",
        "  markdown_buffer.write(' * ')\n",
        "  markdown_buffer.write(\n",
        "      response.text[support.segment.start_index : support.segment.end_index])\n",
        "\n",
        "  for i in support.grounding_chunk_indices:\n",
        "    chunk = chunks[i].web\n",
        "    markdown_buffer.write(f'<sup>[{i+1}]</sup>')\n",
        "\n",
        "  markdown_buffer.write('\\n\\n')\n",
        "\n",
        "''' footnotes/citations '''\n",
        "markdown_buffer.write('Citations: \\n\\n')\n",
        "for i, chunk in enumerate(chunks, start=1):\n",
        "  markdown_buffer.write(\n",
        "      f'* {i}: [{chunk.web.title}]({chunk.web.uri})\\n')\n",
        "\n",
        "Markdown(markdown_buffer.getvalue())"
      ],
      "metadata": {
        "colab": {
          "base_uri": "https://localhost:8080/",
          "height": 232
        },
        "id": "C7mwi-G5Uz7i",
        "outputId": "f055fd53-0aee-4022-960a-a9f842f18660"
      },
      "execution_count": null,
      "outputs": [
        {
          "output_type": "execute_result",
          "data": {
            "text/plain": [
              "<IPython.core.display.Markdown object>"
            ],
            "text/markdown": "Supported text: \n\n * SF Tech Week is a large-scale technology event held annually in San Francisco, featuring conferences, wo<sup>[1]</sup>\n\n * shops, networking events, and more, showcasing the latest <sup>[2]</sup>\n\n * <sup>[3]</sup>\n\n * <sup>[3]</sup>\n\nCitations: \n\n* 1: [grayarea.org](https://vertexaisearch.cloud.google.com/grounding-api-redirect/AQXblrxJdyfnSr9w62lqgRcVAehx5Xhfb6CVvPh_Yr25kGLbIHuRadDGR6nLO81krpAF6bG7wNJ8oaNT6MLCgFuhB0258_mtikJ2bjkPDJtfcm-pKSixwdMqMORw76E01iaOemq6Xk5-Isx7L0If8mCw1_79hxxFN1xHYRP8epGH3Q==)\n* 2: [tech-week.com](https://vertexaisearch.cloud.google.com/grounding-api-redirect/AQXblrzRkMAR8GGZ84KFxWbbYNXV8VZIBmvrEyUPBs4Z4j0dK8r2lkhgRnaMQT-eRxn0gU3COgZiZFUm_Sj3-VL8c1SMDb_iRUNVG422XxWbF5ApCgRIAn8w)\n* 3: [sf-techweek.com](https://vertexaisearch.cloud.google.com/grounding-api-redirect/AQXblrwGx-DoAdNyrUbae8swBh6a3ps7WgXFfXcfD8a-yf-3XEt075fTFjyA-Kdd4cShs8vmDdgCn8c6tnA1iEJUVkd-56OdPOit2rheTXmT4EAMkagP1w==)\n"
          },
          "metadata": {},
          "execution_count": 17
        }
      ]
    },
    {
      "cell_type": "markdown",
      "source": [
        "#### Dynamic grounding"
      ],
      "metadata": {
        "id": "AY_91048zqRS"
      }
    },
    {
      "cell_type": "code",
      "source": [
        "nosearch_model = genai.GenerativeModel('gemini-1.5-flash-002')\n",
        "chat = nosearch_model.start_chat()"
      ],
      "metadata": {
        "id": "lYvBGJl2vP91"
      },
      "execution_count": null,
      "outputs": []
    },
    {
      "cell_type": "code",
      "source": [
        "resp = chat.send_message('Hello!')\n",
        "resp = chat.send_message(\n",
        "    'When and where is SF tech week', tools = 'google_search_retrieval')\n",
        "Markdown(resp.text)"
      ],
      "metadata": {
        "colab": {
          "base_uri": "https://localhost:8080/",
          "height": 81
        },
        "id": "MWW_s-E8vQJG",
        "outputId": "2d18dc25-b390-49df-c04f-9c7a040eb20c"
      },
      "execution_count": null,
      "outputs": [
        {
          "output_type": "execute_result",
          "data": {
            "text/plain": [
              "<IPython.core.display.Markdown object>"
            ],
            "text/markdown": "Based on the provided sources, San Francisco Tech Week in 2024 took place from October 7th to October 13th.  Source [1] indicates that in 2025, it will be held from October 6th to 12th.  Note that this information refers to a series of events under the \"Tech Week\" umbrella, not a single, centrally organized event.  Many different companies and organizations host individual events during this period.\n"
          },
          "metadata": {},
          "execution_count": 19
        }
      ]
    },
    {
      "cell_type": "code",
      "source": [
        "resp = chat.send_message('Hello!')\n",
        "resp = chat.send_message(\n",
        "    'When and where is SF tech wee', tools = 'google_search_retrieval')\n",
        "Markdown(resp.text)"
      ],
      "metadata": {
        "colab": {
          "base_uri": "https://localhost:8080/",
          "height": 227
        },
        "id": "mZTEjjLwvQNl",
        "outputId": "3c7e8bc8-a737-43cf-9b9c-323d41b9a366"
      },
      "execution_count": null,
      "outputs": [
        {
          "output_type": "execute_result",
          "data": {
            "text/plain": [
              "<IPython.core.display.Markdown object>"
            ],
            "text/markdown": "There isn't one single \"SF Tech Week.\"  Instead, several events use the \"Tech Week\" branding or occur during periods often referred to as Tech Week.  Based on your provided sources, here's a breakdown of tech-related events in San Francisco in 2025:\n\n\n* **October 6-12, 2025:**  A series of events across San Francisco are grouped under the \"Tech Week\" banner.  These are individually hosted by different companies, not a single large-scale conference. The location varies depending on the specific event.\n\n* **January 10-19, 2025:** SF HealthTech Week takes place across San Francisco and the Bay Area, coinciding with the JP Morgan Healthcare Conference.  Again, this encompasses multiple events at various locations.\n\n* **June 16-20, 2025:** Human Tech Week focuses on the intersection of human wellness, AI, and future potential.  This is a dedicated event series with specific locations to be determined closer to the event dates.\n\n\nTo find precise locations and details for any of these events, you'll need to consult the individual event websites (links provided in the original sources).  Each event will have its own schedule and location information.\n"
          },
          "metadata": {},
          "execution_count": 21
        }
      ]
    },
    {
      "cell_type": "code",
      "source": [
        "HTML(resp.candidates[0].grounding_metadata.search_entry_point.rendered_content)"
      ],
      "metadata": {
        "colab": {
          "base_uri": "https://localhost:8080/",
          "height": 65
        },
        "id": "ou-2q8dUvQYN",
        "outputId": "e50ee79a-ab3b-4524-bfae-1c7a24295e25"
      },
      "execution_count": null,
      "outputs": [
        {
          "output_type": "execute_result",
          "data": {
            "text/plain": [
              "<IPython.core.display.HTML object>"
            ],
            "text/html": [
              "<style>\n",
              ".container {\n",
              "  align-items: center;\n",
              "  border-radius: 8px;\n",
              "  display: flex;\n",
              "  font-family: Google Sans, Roboto, sans-serif;\n",
              "  font-size: 14px;\n",
              "  line-height: 20px;\n",
              "  padding: 8px 12px;\n",
              "}\n",
              ".chip {\n",
              "  display: inline-block;\n",
              "  border: solid 1px;\n",
              "  border-radius: 16px;\n",
              "  min-width: 14px;\n",
              "  padding: 5px 16px;\n",
              "  text-align: center;\n",
              "  user-select: none;\n",
              "  margin: 0 8px;\n",
              "  -webkit-tap-highlight-color: transparent;\n",
              "}\n",
              ".carousel {\n",
              "  overflow: auto;\n",
              "  scrollbar-width: none;\n",
              "  white-space: nowrap;\n",
              "  margin-right: -12px;\n",
              "}\n",
              ".headline {\n",
              "  display: flex;\n",
              "  margin-right: 4px;\n",
              "}\n",
              ".gradient-container {\n",
              "  position: relative;\n",
              "}\n",
              ".gradient {\n",
              "  position: absolute;\n",
              "  transform: translate(3px, -9px);\n",
              "  height: 36px;\n",
              "  width: 9px;\n",
              "}\n",
              "@media (prefers-color-scheme: light) {\n",
              "  .container {\n",
              "    background-color: #fafafa;\n",
              "    box-shadow: 0 0 0 1px #0000000f;\n",
              "  }\n",
              "  .headline-label {\n",
              "    color: #1f1f1f;\n",
              "  }\n",
              "  .chip {\n",
              "    background-color: #ffffff;\n",
              "    border-color: #d2d2d2;\n",
              "    color: #5e5e5e;\n",
              "    text-decoration: none;\n",
              "  }\n",
              "  .chip:hover {\n",
              "    background-color: #f2f2f2;\n",
              "  }\n",
              "  .chip:focus {\n",
              "    background-color: #f2f2f2;\n",
              "  }\n",
              "  .chip:active {\n",
              "    background-color: #d8d8d8;\n",
              "    border-color: #b6b6b6;\n",
              "  }\n",
              "  .logo-dark {\n",
              "    display: none;\n",
              "  }\n",
              "  .gradient {\n",
              "    background: linear-gradient(90deg, #fafafa 15%, #fafafa00 100%);\n",
              "  }\n",
              "}\n",
              "@media (prefers-color-scheme: dark) {\n",
              "  .container {\n",
              "    background-color: #1f1f1f;\n",
              "    box-shadow: 0 0 0 1px #ffffff26;\n",
              "  }\n",
              "  .headline-label {\n",
              "    color: #fff;\n",
              "  }\n",
              "  .chip {\n",
              "    background-color: #2c2c2c;\n",
              "    border-color: #3c4043;\n",
              "    color: #fff;\n",
              "    text-decoration: none;\n",
              "  }\n",
              "  .chip:hover {\n",
              "    background-color: #353536;\n",
              "  }\n",
              "  .chip:focus {\n",
              "    background-color: #353536;\n",
              "  }\n",
              "  .chip:active {\n",
              "    background-color: #464849;\n",
              "    border-color: #53575b;\n",
              "  }\n",
              "  .logo-light {\n",
              "    display: none;\n",
              "  }\n",
              "  .gradient {\n",
              "    background: linear-gradient(90deg, #1f1f1f 15%, #1f1f1f00 100%);\n",
              "  }\n",
              "}\n",
              "</style>\n",
              "<div class=\"container\">\n",
              "  <div class=\"headline\">\n",
              "    <svg class=\"logo-light\" width=\"18\" height=\"18\" viewBox=\"9 9 35 35\" fill=\"none\" xmlns=\"http://www.w3.org/2000/svg\">\n",
              "      <path fill-rule=\"evenodd\" clip-rule=\"evenodd\" d=\"M42.8622 27.0064C42.8622 25.7839 42.7525 24.6084 42.5487 23.4799H26.3109V30.1568H35.5897C35.1821 32.3041 33.9596 34.1222 32.1258 35.3448V39.6864H37.7213C40.9814 36.677 42.8622 32.2571 42.8622 27.0064V27.0064Z\" fill=\"#4285F4\"/>\n",
              "      <path fill-rule=\"evenodd\" clip-rule=\"evenodd\" d=\"M26.3109 43.8555C30.9659 43.8555 34.8687 42.3195 37.7213 39.6863L32.1258 35.3447C30.5898 36.3792 28.6306 37.0061 26.3109 37.0061C21.8282 37.0061 18.0195 33.9811 16.6559 29.906H10.9194V34.3573C13.7563 39.9841 19.5712 43.8555 26.3109 43.8555V43.8555Z\" fill=\"#34A853\"/>\n",
              "      <path fill-rule=\"evenodd\" clip-rule=\"evenodd\" d=\"M16.6559 29.8904C16.3111 28.8559 16.1074 27.7588 16.1074 26.6146C16.1074 25.4704 16.3111 24.3733 16.6559 23.3388V18.8875H10.9194C9.74388 21.2072 9.06992 23.8247 9.06992 26.6146C9.06992 29.4045 9.74388 32.022 10.9194 34.3417L15.3864 30.8621L16.6559 29.8904V29.8904Z\" fill=\"#FBBC05\"/>\n",
              "      <path fill-rule=\"evenodd\" clip-rule=\"evenodd\" d=\"M26.3109 16.2386C28.85 16.2386 31.107 17.1164 32.9095 18.8091L37.8466 13.8719C34.853 11.082 30.9659 9.3736 26.3109 9.3736C19.5712 9.3736 13.7563 13.245 10.9194 18.8875L16.6559 23.3388C18.0195 19.2636 21.8282 16.2386 26.3109 16.2386V16.2386Z\" fill=\"#EA4335\"/>\n",
              "    </svg>\n",
              "    <svg class=\"logo-dark\" width=\"18\" height=\"18\" viewBox=\"0 0 48 48\" xmlns=\"http://www.w3.org/2000/svg\">\n",
              "      <circle cx=\"24\" cy=\"23\" fill=\"#FFF\" r=\"22\"/>\n",
              "      <path d=\"M33.76 34.26c2.75-2.56 4.49-6.37 4.49-11.26 0-.89-.08-1.84-.29-3H24.01v5.99h8.03c-.4 2.02-1.5 3.56-3.07 4.56v.75l3.91 2.97h.88z\" fill=\"#4285F4\"/>\n",
              "      <path d=\"M15.58 25.77A8.845 8.845 0 0 0 24 31.86c1.92 0 3.62-.46 4.97-1.31l4.79 3.71C31.14 36.7 27.65 38 24 38c-5.93 0-11.01-3.4-13.45-8.36l.17-1.01 4.06-2.85h.8z\" fill=\"#34A853\"/>\n",
              "      <path d=\"M15.59 20.21a8.864 8.864 0 0 0 0 5.58l-5.03 3.86c-.98-2-1.53-4.25-1.53-6.64 0-2.39.55-4.64 1.53-6.64l1-.22 3.81 2.98.22 1.08z\" fill=\"#FBBC05\"/>\n",
              "      <path d=\"M24 14.14c2.11 0 4.02.75 5.52 1.98l4.36-4.36C31.22 9.43 27.81 8 24 8c-5.93 0-11.01 3.4-13.45 8.36l5.03 3.85A8.86 8.86 0 0 1 24 14.14z\" fill=\"#EA4335\"/>\n",
              "    </svg>\n",
              "    <div class=\"gradient-container\"><div class=\"gradient\"></div></div>\n",
              "  </div>\n",
              "  <div class=\"carousel\">\n",
              "    <a class=\"chip\" href=\"https://vertexaisearch.cloud.google.com/grounding-api-redirect/AQXblrxCBHThM1qCMU0Ks2iKLlIbi4R5s0d6mu9PYDYHI06WZb6sSXTsxvz0Na9wmCg2FqbZIEdYaIWemGYIki2GmdExmJ1crWmcWsksIzGobPc8crilccDCz4UVDChXf2f_X6F6w1pQK3HONgS0_WDqyjdQcd3AhfhMVIucT7olnlLa6QSNzT9BnKxry8TxzfyD8oOCfFs=\">SF tech wee 2025</a>\n",
              "  </div>\n",
              "</div>\n"
            ]
          },
          "metadata": {},
          "execution_count": 22
        }
      ]
    },
    {
      "cell_type": "code",
      "source": [
        "search_config = {\n",
        "  'dynamic_retrieval_config': {'mode': 'MODE_DYNAMIC', 'dynamic_threshold': 0.5}}\n",
        "\n",
        "search_model = genai.GenerativeModel(\n",
        "  'gemini-1.5-flash-002', tools={'google_search_retrieval': search_config})\n",
        "\n",
        "chat = search_model.start_chat()\n",
        "response = chat.send_message('Hello friendly chatbot')\n",
        "resp = response.candidates[0]\n",
        "score = resp.grounding_metadata.retrieval_metadata.google_search_dynamic_retrieval_score\n",
        "print(f'first turn: {score=}')\n",
        "\n",
        "response = chat.send_message('When and where is SF tech wee')\n",
        "resp = response.candidates[0]\n",
        "score = resp.grounding_metadata.retrieval_metadata.google_search_dynamic_retrieval_score\n",
        "print(f'second turn: {score=}')\n",
        "\n",
        "display(Markdown(response.text))"
      ],
      "metadata": {
        "colab": {
          "base_uri": "https://localhost:8080/",
          "height": 99
        },
        "id": "TSEx-jjuUz-0",
        "outputId": "22ec2988-7c1b-47bd-fce2-6ec6eda7636f"
      },
      "execution_count": null,
      "outputs": [
        {
          "output_type": "stream",
          "name": "stdout",
          "text": [
            "first turn: score=0.25767046213150024\n",
            "second turn: score=0.711559534072876\n"
          ]
        },
        {
          "output_type": "display_data",
          "data": {
            "text/plain": [
              "<IPython.core.display.Markdown object>"
            ],
            "text/markdown": "Based on the provided sources, SF Tech Week 2024 took place from October 7th to 13th,  and SF Tech Week 2025 is scheduled for October 6th to 12th.  The events are held in San Francisco, primarily in the SOMA district.\n"
          },
          "metadata": {}
        }
      ]
    },
    {
      "cell_type": "code",
      "source": [
        "HTML(resp.grounding_metadata.search_entry_point.rendered_content)"
      ],
      "metadata": {
        "colab": {
          "base_uri": "https://localhost:8080/",
          "height": 65
        },
        "id": "HXWTMrBeU0Bv",
        "outputId": "f4b66ac3-54f5-4a24-86ef-a78a3b092c7a"
      },
      "execution_count": null,
      "outputs": [
        {
          "output_type": "execute_result",
          "data": {
            "text/plain": [
              "<IPython.core.display.HTML object>"
            ],
            "text/html": [
              "<style>\n",
              ".container {\n",
              "  align-items: center;\n",
              "  border-radius: 8px;\n",
              "  display: flex;\n",
              "  font-family: Google Sans, Roboto, sans-serif;\n",
              "  font-size: 14px;\n",
              "  line-height: 20px;\n",
              "  padding: 8px 12px;\n",
              "}\n",
              ".chip {\n",
              "  display: inline-block;\n",
              "  border: solid 1px;\n",
              "  border-radius: 16px;\n",
              "  min-width: 14px;\n",
              "  padding: 5px 16px;\n",
              "  text-align: center;\n",
              "  user-select: none;\n",
              "  margin: 0 8px;\n",
              "  -webkit-tap-highlight-color: transparent;\n",
              "}\n",
              ".carousel {\n",
              "  overflow: auto;\n",
              "  scrollbar-width: none;\n",
              "  white-space: nowrap;\n",
              "  margin-right: -12px;\n",
              "}\n",
              ".headline {\n",
              "  display: flex;\n",
              "  margin-right: 4px;\n",
              "}\n",
              ".gradient-container {\n",
              "  position: relative;\n",
              "}\n",
              ".gradient {\n",
              "  position: absolute;\n",
              "  transform: translate(3px, -9px);\n",
              "  height: 36px;\n",
              "  width: 9px;\n",
              "}\n",
              "@media (prefers-color-scheme: light) {\n",
              "  .container {\n",
              "    background-color: #fafafa;\n",
              "    box-shadow: 0 0 0 1px #0000000f;\n",
              "  }\n",
              "  .headline-label {\n",
              "    color: #1f1f1f;\n",
              "  }\n",
              "  .chip {\n",
              "    background-color: #ffffff;\n",
              "    border-color: #d2d2d2;\n",
              "    color: #5e5e5e;\n",
              "    text-decoration: none;\n",
              "  }\n",
              "  .chip:hover {\n",
              "    background-color: #f2f2f2;\n",
              "  }\n",
              "  .chip:focus {\n",
              "    background-color: #f2f2f2;\n",
              "  }\n",
              "  .chip:active {\n",
              "    background-color: #d8d8d8;\n",
              "    border-color: #b6b6b6;\n",
              "  }\n",
              "  .logo-dark {\n",
              "    display: none;\n",
              "  }\n",
              "  .gradient {\n",
              "    background: linear-gradient(90deg, #fafafa 15%, #fafafa00 100%);\n",
              "  }\n",
              "}\n",
              "@media (prefers-color-scheme: dark) {\n",
              "  .container {\n",
              "    background-color: #1f1f1f;\n",
              "    box-shadow: 0 0 0 1px #ffffff26;\n",
              "  }\n",
              "  .headline-label {\n",
              "    color: #fff;\n",
              "  }\n",
              "  .chip {\n",
              "    background-color: #2c2c2c;\n",
              "    border-color: #3c4043;\n",
              "    color: #fff;\n",
              "    text-decoration: none;\n",
              "  }\n",
              "  .chip:hover {\n",
              "    background-color: #353536;\n",
              "  }\n",
              "  .chip:focus {\n",
              "    background-color: #353536;\n",
              "  }\n",
              "  .chip:active {\n",
              "    background-color: #464849;\n",
              "    border-color: #53575b;\n",
              "  }\n",
              "  .logo-light {\n",
              "    display: none;\n",
              "  }\n",
              "  .gradient {\n",
              "    background: linear-gradient(90deg, #1f1f1f 15%, #1f1f1f00 100%);\n",
              "  }\n",
              "}\n",
              "</style>\n",
              "<div class=\"container\">\n",
              "  <div class=\"headline\">\n",
              "    <svg class=\"logo-light\" width=\"18\" height=\"18\" viewBox=\"9 9 35 35\" fill=\"none\" xmlns=\"http://www.w3.org/2000/svg\">\n",
              "      <path fill-rule=\"evenodd\" clip-rule=\"evenodd\" d=\"M42.8622 27.0064C42.8622 25.7839 42.7525 24.6084 42.5487 23.4799H26.3109V30.1568H35.5897C35.1821 32.3041 33.9596 34.1222 32.1258 35.3448V39.6864H37.7213C40.9814 36.677 42.8622 32.2571 42.8622 27.0064V27.0064Z\" fill=\"#4285F4\"/>\n",
              "      <path fill-rule=\"evenodd\" clip-rule=\"evenodd\" d=\"M26.3109 43.8555C30.9659 43.8555 34.8687 42.3195 37.7213 39.6863L32.1258 35.3447C30.5898 36.3792 28.6306 37.0061 26.3109 37.0061C21.8282 37.0061 18.0195 33.9811 16.6559 29.906H10.9194V34.3573C13.7563 39.9841 19.5712 43.8555 26.3109 43.8555V43.8555Z\" fill=\"#34A853\"/>\n",
              "      <path fill-rule=\"evenodd\" clip-rule=\"evenodd\" d=\"M16.6559 29.8904C16.3111 28.8559 16.1074 27.7588 16.1074 26.6146C16.1074 25.4704 16.3111 24.3733 16.6559 23.3388V18.8875H10.9194C9.74388 21.2072 9.06992 23.8247 9.06992 26.6146C9.06992 29.4045 9.74388 32.022 10.9194 34.3417L15.3864 30.8621L16.6559 29.8904V29.8904Z\" fill=\"#FBBC05\"/>\n",
              "      <path fill-rule=\"evenodd\" clip-rule=\"evenodd\" d=\"M26.3109 16.2386C28.85 16.2386 31.107 17.1164 32.9095 18.8091L37.8466 13.8719C34.853 11.082 30.9659 9.3736 26.3109 9.3736C19.5712 9.3736 13.7563 13.245 10.9194 18.8875L16.6559 23.3388C18.0195 19.2636 21.8282 16.2386 26.3109 16.2386V16.2386Z\" fill=\"#EA4335\"/>\n",
              "    </svg>\n",
              "    <svg class=\"logo-dark\" width=\"18\" height=\"18\" viewBox=\"0 0 48 48\" xmlns=\"http://www.w3.org/2000/svg\">\n",
              "      <circle cx=\"24\" cy=\"23\" fill=\"#FFF\" r=\"22\"/>\n",
              "      <path d=\"M33.76 34.26c2.75-2.56 4.49-6.37 4.49-11.26 0-.89-.08-1.84-.29-3H24.01v5.99h8.03c-.4 2.02-1.5 3.56-3.07 4.56v.75l3.91 2.97h.88z\" fill=\"#4285F4\"/>\n",
              "      <path d=\"M15.58 25.77A8.845 8.845 0 0 0 24 31.86c1.92 0 3.62-.46 4.97-1.31l4.79 3.71C31.14 36.7 27.65 38 24 38c-5.93 0-11.01-3.4-13.45-8.36l.17-1.01 4.06-2.85h.8z\" fill=\"#34A853\"/>\n",
              "      <path d=\"M15.59 20.21a8.864 8.864 0 0 0 0 5.58l-5.03 3.86c-.98-2-1.53-4.25-1.53-6.64 0-2.39.55-4.64 1.53-6.64l1-.22 3.81 2.98.22 1.08z\" fill=\"#FBBC05\"/>\n",
              "      <path d=\"M24 14.14c2.11 0 4.02.75 5.52 1.98l4.36-4.36C31.22 9.43 27.81 8 24 8c-5.93 0-11.01 3.4-13.45 8.36l5.03 3.85A8.86 8.86 0 0 1 24 14.14z\" fill=\"#EA4335\"/>\n",
              "    </svg>\n",
              "    <div class=\"gradient-container\"><div class=\"gradient\"></div></div>\n",
              "  </div>\n",
              "  <div class=\"carousel\">\n",
              "    <a class=\"chip\" href=\"https://vertexaisearch.cloud.google.com/grounding-api-redirect/AQXblrzGkyFM-EYnNBn_SNVqzI2U44FDRHQ7_J8_OT_tagSw8t7WM3AQumDL-bv8RENoBEGXqLXwosTCZDKM7_QWIvUXW4YBH9tzdIkbMpfUkX-G8MGl2C7HsMP475yMG0DUicM5OfV-H19-mSMafcwnXxCioMtVXCfLqvsKyB6E_wOQwo4u2PyhPSGvyDlqsRPeJHukg_Q=\">SF tech wee date</a>\n",
              "    <a class=\"chip\" href=\"https://vertexaisearch.cloud.google.com/grounding-api-redirect/AQXblryS9ZOLMMY5_9M29pkQGC5XgrgqK-YwHGjIvGkMEFGdsY6N8ORUiZaBCxAmSZPZmVVTkriiR3WZdubm_zxUpmkUz17Sx3fO1Lv-VekZw6iX--8Vn-eRm3xAOaZA8RTD9LfNmpPMZcluz_SxM_r2r6fkhRL998uMVmkNSMhafqKx00t7GHNlCtZOAg34UgGcR_FSqp5pyMCC\">SF tech wee location</a>\n",
              "  </div>\n",
              "</div>\n"
            ]
          },
          "metadata": {},
          "execution_count": 24
        }
      ]
    }
  ]
}