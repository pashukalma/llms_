{
  "nbformat": 4,
  "nbformat_minor": 0,
  "metadata": {
    "colab": {
      "provenance": []
    },
    "kernelspec": {
      "name": "python3",
      "display_name": "Python 3"
    },
    "language_info": {
      "name": "python"
    },
    "widgets": {
      "application/vnd.jupyter.widget-state+json": {
        "1f779cb40ae446f18b83537a892c29dd": {
          "model_module": "@jupyter-widgets/output",
          "model_name": "OutputModel",
          "model_module_version": "1.0.0",
          "state": {
            "_dom_classes": [],
            "_model_module": "@jupyter-widgets/output",
            "_model_module_version": "1.0.0",
            "_model_name": "OutputModel",
            "_view_count": null,
            "_view_module": "@jupyter-widgets/output",
            "_view_module_version": "1.0.0",
            "_view_name": "OutputView",
            "layout": "IPY_MODEL_70a4056373da499f8014c25a221c17ee",
            "msg_id": "",
            "outputs": [
              {
                "output_type": "display_data",
                "data": {
                  "text/plain": "\u001b[35m 100%\u001b[0m \u001b[38;2;114;156;31m━━━━━━━━━━━━━━━━━━━━━━━━━━━━━━━━━━━━━━━━━━━━━━━━━━━━━━━━━━━━━━━━━━━━━━━\u001b[0m \u001b[32m32/32 \u001b[0m [ \u001b[33m0:00:37\u001b[0m < \u001b[36m0:00:00\u001b[0m , \u001b[31m1 it/s\u001b[0m ]\n",
                  "text/html": "<pre style=\"white-space:pre;overflow-x:auto;line-height:normal;font-family:Menlo,'DejaVu Sans Mono',consolas,'Courier New',monospace\"><span style=\"color: #800080; text-decoration-color: #800080\"> 100%</span> <span style=\"color: #729c1f; text-decoration-color: #729c1f\">━━━━━━━━━━━━━━━━━━━━━━━━━━━━━━━━━━━━━━━━━━━━━━━━━━━━━━━━━━━━━━━━━━━━━━━</span> <span style=\"color: #008000; text-decoration-color: #008000\">32/32 </span> [ <span style=\"color: #808000; text-decoration-color: #808000\">0:00:37</span> &lt; <span style=\"color: #008080; text-decoration-color: #008080\">0:00:00</span> , <span style=\"color: #800000; text-decoration-color: #800000\">1 it/s</span> ]\n</pre>\n"
                },
                "metadata": {}
              }
            ]
          }
        },
        "70a4056373da499f8014c25a221c17ee": {
          "model_module": "@jupyter-widgets/base",
          "model_name": "LayoutModel",
          "model_module_version": "1.2.0",
          "state": {
            "_model_module": "@jupyter-widgets/base",
            "_model_module_version": "1.2.0",
            "_model_name": "LayoutModel",
            "_view_count": null,
            "_view_module": "@jupyter-widgets/base",
            "_view_module_version": "1.2.0",
            "_view_name": "LayoutView",
            "align_content": null,
            "align_items": null,
            "align_self": null,
            "border": null,
            "bottom": null,
            "display": null,
            "flex": null,
            "flex_flow": null,
            "grid_area": null,
            "grid_auto_columns": null,
            "grid_auto_flow": null,
            "grid_auto_rows": null,
            "grid_column": null,
            "grid_gap": null,
            "grid_row": null,
            "grid_template_areas": null,
            "grid_template_columns": null,
            "grid_template_rows": null,
            "height": null,
            "justify_content": null,
            "justify_items": null,
            "left": null,
            "margin": null,
            "max_height": null,
            "max_width": null,
            "min_height": null,
            "min_width": null,
            "object_fit": null,
            "object_position": null,
            "order": null,
            "overflow": null,
            "overflow_x": null,
            "overflow_y": null,
            "padding": null,
            "right": null,
            "top": null,
            "visibility": null,
            "width": null
          }
        },
        "057ed9b1e34243f7bdaf79935d0bb4e5": {
          "model_module": "@jupyter-widgets/output",
          "model_name": "OutputModel",
          "model_module_version": "1.0.0",
          "state": {
            "_dom_classes": [],
            "_model_module": "@jupyter-widgets/output",
            "_model_module_version": "1.0.0",
            "_model_name": "OutputModel",
            "_view_count": null,
            "_view_module": "@jupyter-widgets/output",
            "_view_module_version": "1.0.0",
            "_view_name": "OutputView",
            "layout": "IPY_MODEL_34f893dc1031457bbf2506d8806fdf26",
            "msg_id": "",
            "outputs": [
              {
                "output_type": "display_data",
                "data": {
                  "text/plain": "\u001b[35m 100%\u001b[0m \u001b[38;2;114;156;31m━━━━━━━━━━━━━━━━━━━━━━━━━━━━━━━━━━━━━━━━━━━━━━━━━━━━━━━━━━━━━━━━━━━━━━━\u001b[0m \u001b[32m16/16 \u001b[0m [ \u001b[33m0:00:09\u001b[0m < \u001b[36m0:00:00\u001b[0m , \u001b[31m2 it/s\u001b[0m ]\n",
                  "text/html": "<pre style=\"white-space:pre;overflow-x:auto;line-height:normal;font-family:Menlo,'DejaVu Sans Mono',consolas,'Courier New',monospace\"><span style=\"color: #800080; text-decoration-color: #800080\"> 100%</span> <span style=\"color: #729c1f; text-decoration-color: #729c1f\">━━━━━━━━━━━━━━━━━━━━━━━━━━━━━━━━━━━━━━━━━━━━━━━━━━━━━━━━━━━━━━━━━━━━━━━</span> <span style=\"color: #008000; text-decoration-color: #008000\">16/16 </span> [ <span style=\"color: #808000; text-decoration-color: #808000\">0:00:09</span> &lt; <span style=\"color: #008080; text-decoration-color: #008080\">0:00:00</span> , <span style=\"color: #800000; text-decoration-color: #800000\">2 it/s</span> ]\n</pre>\n"
                },
                "metadata": {}
              }
            ]
          }
        },
        "34f893dc1031457bbf2506d8806fdf26": {
          "model_module": "@jupyter-widgets/base",
          "model_name": "LayoutModel",
          "model_module_version": "1.2.0",
          "state": {
            "_model_module": "@jupyter-widgets/base",
            "_model_module_version": "1.2.0",
            "_model_name": "LayoutModel",
            "_view_count": null,
            "_view_module": "@jupyter-widgets/base",
            "_view_module_version": "1.2.0",
            "_view_name": "LayoutView",
            "align_content": null,
            "align_items": null,
            "align_self": null,
            "border": null,
            "bottom": null,
            "display": null,
            "flex": null,
            "flex_flow": null,
            "grid_area": null,
            "grid_auto_columns": null,
            "grid_auto_flow": null,
            "grid_auto_rows": null,
            "grid_column": null,
            "grid_gap": null,
            "grid_row": null,
            "grid_template_areas": null,
            "grid_template_columns": null,
            "grid_template_rows": null,
            "height": null,
            "justify_content": null,
            "justify_items": null,
            "left": null,
            "margin": null,
            "max_height": null,
            "max_width": null,
            "min_height": null,
            "min_width": null,
            "object_fit": null,
            "object_position": null,
            "order": null,
            "overflow": null,
            "overflow_x": null,
            "overflow_y": null,
            "padding": null,
            "right": null,
            "top": null,
            "visibility": null,
            "width": null
          }
        }
      }
    }
  },
  "cells": [
    {
      "cell_type": "markdown",
      "source": [
        "#### Fine Tuning a Custom Model"
      ],
      "metadata": {
        "id": "xHwFBQ5Y3rfY"
      }
    },
    {
      "cell_type": "code",
      "execution_count": null,
      "metadata": {
        "id": "TSIE-uRcsrRH"
      },
      "outputs": [],
      "source": [
        "!pip install -U -q \"google-generativeai>=0.7.2\""
      ]
    },
    {
      "cell_type": "code",
      "source": [
        "from sklearn.datasets import fetch_20newsgroups\n",
        "newsgroups_train = fetch_20newsgroups(subset='train')\n",
        "newsgroups_test = fetch_20newsgroups(subset='test')\n",
        "newsgroups_train.target_names"
      ],
      "metadata": {
        "id": "OuaG8oSi1nui",
        "collapsed": true
      },
      "execution_count": null,
      "outputs": []
    },
    {
      "cell_type": "code",
      "source": [
        "''' Prepare the Dataset '''\n",
        "import email, re, pandas as pd\n",
        "\n",
        "def preprocess_newsgroup_row(data):\n",
        "  msg = email.message_from_string(data)\n",
        "  text = f\" {msg['Subject']}\\n\\n{msg.get_payload()} \"\n",
        "  text = re.sub(r\"[\\w\\.-]+@[\\w\\.-]+\", \"\", text)\n",
        "  text = text[:40000]\n",
        "  return text\n",
        "\n",
        "def preprocess_newsgroup_data(newsgroup_dataset):\n",
        "  df = pd.DataFrame(\n",
        "    {'Text': newsgroup_dataset.data, 'Label': newsgroup_dataset.target} )\n",
        "  df['Text'] = df['Text'].apply(preprocess_newsgroup_row)\n",
        "  df['Class Name'] = df['Label'].map(lambda l: newsgroup_dataset.target_names[l])\n",
        "  return df\n",
        "\n",
        "df_train = preprocess_newsgroup_data(newsgroups_train)\n",
        "df_test = preprocess_newsgroup_data(newsgroups_test)\n",
        "df_train.head()"
      ],
      "metadata": {
        "id": "UPcGogZx1n3f"
      },
      "execution_count": null,
      "outputs": []
    },
    {
      "cell_type": "code",
      "source": [
        "''' Sample Data '''\n",
        "def sample_data(df, num_samples, classes_to_keep):\n",
        "  df = (\n",
        "      # sample rows, selecting num_samples of each label\n",
        "      df.groupby('Label')[df.columns].apply(\n",
        "          lambda x: x.sample(num_samples)).reset_index(drop=True)\n",
        "  )\n",
        "  df = df[df['Class Name'].str.contains(classes_to_keep)]\n",
        "  df['Class Name'] = df['Class Name'].astype('category')\n",
        "  return df\n",
        "\n",
        "train_num_samples = 50\n",
        "test_num_samples = 10\n",
        "classes_to_keep = '^rec|^sci'\n",
        "df_train = sample_data(df_train, train_num_samples, classes_to_keep)\n",
        "df_test = sample_data(df_test, test_num_samples, classes_to_keep)"
      ],
      "metadata": {
        "id": "M5OSZtP21n7C"
      },
      "execution_count": null,
      "outputs": []
    },
    {
      "cell_type": "code",
      "source": [
        "''' Identify a sample row to use for visual inspection '''\n",
        "sample_idx = 0\n",
        "sample_row = preprocess_newsgroup_row(newsgroups_test.data[sample_idx])\n",
        "sample_label = newsgroups_test.target_names[newsgroups_test.target[sample_idx]]\n",
        "print(sample_row)\n",
        "print('_________________')\n",
        "print('Label:', sample_label)"
      ],
      "metadata": {
        "id": "p8efV9hU_-Xm"
      },
      "execution_count": null,
      "outputs": []
    },
    {
      "cell_type": "code",
      "source": [
        "''' Evaluate Baseline performance '''\n",
        "baseline_model = genai.GenerativeModel('gemini-1.5-flash-002')\n",
        "response = baseline_model.generate_content(sample_row)\n",
        "print(response.text)"
      ],
      "metadata": {
        "id": "w0J-3iP91n-B"
      },
      "execution_count": null,
      "outputs": []
    },
    {
      "cell_type": "code",
      "source": [
        "prompt = 'from what newsgroup doesthe following message originates from'\n",
        "baseline_response = baseline_model.generate_content([prompt, sample_row])\n",
        "Markdown(baseline_response.text)"
      ],
      "metadata": {
        "id": "vNDxxw8x1oBP"
      },
      "execution_count": null,
      "outputs": []
    },
    {
      "cell_type": "code",
      "source": [
        "''' system instruction to do more direct prompting '''\n",
        "from google.api_core import retry\n",
        "system_instruct = '''\n",
        "this is a classification service\n",
        "this will pass input that represents a newsgroup post and it responds with a\n",
        "newsgroup post from where it originates from\n",
        "'''\n",
        "instructed_model = genai.GenerativeModel('gemini-1.5-flash-002',\n",
        "                system_instruction=system_instruct)\n",
        "retry_policy = {'retry': retry.Retry(predicate=retry.if_transient_error)}\n",
        "\n",
        "def predict_label(post: str)->str:\n",
        "  response = instructed_model.generate_content(post, request_options=retry_policy)\n",
        "  resp = response.candidates[0]\n",
        "  if resp.finish_reason.name != 'STOP':\n",
        "    return '{error}'\n",
        "  else:\n",
        "    return response.text.strip()"
      ],
      "metadata": {
        "id": "PLzk7WnN1oEk"
      },
      "execution_count": null,
      "outputs": []
    },
    {
      "cell_type": "code",
      "source": [
        "prediction = predict_label(sample_row)\n",
        "prediction, 'Correct' if prediction == sample_label else 'Incorrect'"
      ],
      "metadata": {
        "colab": {
          "base_uri": "https://localhost:8080/",
          "height": 35
        },
        "id": "Sj4d5my6U0FG",
        "outputId": "ea8b1b48-632d-42fa-b792-07d13caa3e08"
      },
      "execution_count": null,
      "outputs": [
        {
          "output_type": "execute_result",
          "data": {
            "text/plain": [
              "('rec.autos', 'Correct')"
            ]
          },
          "metadata": {},
          "execution_count": 33
        }
      ]
    },
    {
      "cell_type": "code",
      "source": [
        "from tqdm.rich import tqdm\n",
        "tqdm.pandas()\n",
        "df_baseline_eval = sample_data(df_test, 2, '.*') # sample data\n",
        "df_baseline_eval['Prediction'] = \\\n",
        "  df_baseline_eval['Text'].progress_apply(predict_label) # make predictions\n",
        "accuracy = (df_baseline_eval['Class Name'] == \\\n",
        "            df_baseline_eval['Prediction']).sum() / len(df_baseline_eval)\n",
        "print(f'Accuracy: {accuracy: 2%}')"
      ],
      "metadata": {
        "colab": {
          "base_uri": "https://localhost:8080/",
          "height": 87,
          "referenced_widgets": [
            "057ed9b1e34243f7bdaf79935d0bb4e5",
            "34f893dc1031457bbf2506d8806fdf26"
          ]
        },
        "id": "JiYDHcyFFGcJ",
        "outputId": "59eab2f3-cdba-43e2-d072-2799d2ed82c0"
      },
      "execution_count": null,
      "outputs": [
        {
          "output_type": "display_data",
          "data": {
            "text/plain": [
              "Output()"
            ],
            "application/vnd.jupyter.widget-view+json": {
              "version_major": 2,
              "version_minor": 0,
              "model_id": "057ed9b1e34243f7bdaf79935d0bb4e5"
            }
          },
          "metadata": {}
        },
        {
          "output_type": "stream",
          "name": "stderr",
          "text": [
            "/usr/local/lib/python3.11/dist-packages/tqdm/std.py:885: TqdmExperimentalWarning: rich is experimental/alpha\n",
            "  t = cls(total=total, **tqdm_kwargs)\n"
          ]
        },
        {
          "output_type": "display_data",
          "data": {
            "text/plain": [],
            "text/html": [
              "<pre style=\"white-space:pre;overflow-x:auto;line-height:normal;font-family:Menlo,'DejaVu Sans Mono',consolas,'Courier New',monospace\"></pre>\n"
            ]
          },
          "metadata": {}
        },
        {
          "output_type": "stream",
          "name": "stdout",
          "text": [
            "Accuracy:  37.500000%\n"
          ]
        }
      ]
    },
    {
      "cell_type": "markdown",
      "source": [
        "## Tune a custom Model"
      ],
      "metadata": {
        "id": "KRdCtPD6I9nB"
      }
    },
    {
      "cell_type": "code",
      "source": [
        "import random\n",
        "from collections.abc import Iterable"
      ],
      "metadata": {
        "id": "sw8qkVnHFGqU"
      },
      "execution_count": null,
      "outputs": []
    },
    {
      "cell_type": "code",
      "source": [
        "model_id = f'newsgroup-classifier-{random.randint(10000, 99999)}'\n",
        "# upload training data and queue the tuning job\n",
        "tuning_op = genai.create_tuned_model(\n",
        "    'models/gemini-1.5-flash-001-tuning',\n",
        "    training_data = df_train,\n",
        "    input_key = 'Text',\n",
        "    output_key = 'Class Name',\n",
        "    id = model_id,\n",
        "    display_name = 'Newsgroup classification model',\n",
        "    batch_size = 16,\n",
        "    epoch_count = 2,\n",
        ")"
      ],
      "metadata": {
        "id": "HyXi6oA-FGtK"
      },
      "execution_count": null,
      "outputs": []
    },
    {
      "cell_type": "code",
      "source": [
        "import time, seaborn as sns\n",
        "while (tuned_model := genai.get_tuned_model(\n",
        "    f'tunedModels/{model_id}')).state.name != 'ACTIVE':\n",
        "    print(tuned_model.state)\n",
        "    time.sleep(60)\n",
        "print(f' Done! The model is {tuned_model.state.name}')\n",
        "\n",
        "snapshots = pd.DataFrame(tuned_model.tuning_task.snapshots)\n",
        "sns.lineplot(data=snapshots, x='step', y='mean_loss')"
      ],
      "metadata": {
        "colab": {
          "base_uri": "https://localhost:8080/",
          "height": 485
        },
        "id": "V_afsCs1FG6g",
        "outputId": "c20c69a1-94cc-4c98-b476-06b4d8a2a334"
      },
      "execution_count": null,
      "outputs": [
        {
          "output_type": "stream",
          "name": "stdout",
          "text": [
            " Done! The model is ACTIVE\n"
          ]
        },
        {
          "output_type": "execute_result",
          "data": {
            "text/plain": [
              "<Axes: xlabel='step', ylabel='mean_loss'>"
            ]
          },
          "metadata": {},
          "execution_count": 81
        },
        {
          "output_type": "display_data",
          "data": {
            "text/plain": [
              "<Figure size 640x480 with 1 Axes>"
            ],
            "image/png": "[encoded data removed]"
          },
          "metadata": {}
        }
      ]
    },
    {
      "cell_type": "markdown",
      "source": [
        "### Use the new Model"
      ],
      "metadata": {
        "id": "i8F2Ipa-P_XO"
      }
    },
    {
      "cell_type": "code",
      "source": [
        "your_model = genai.GenerativeModel(f'tunedModels/{model_id}')\n",
        "new_text = ''' goes here '''\n",
        "response = your_model.generate_content(new_text)\n",
        "print(response.text)"
      ],
      "metadata": {
        "id": "n-1my-TnOSPI"
      },
      "execution_count": null,
      "outputs": []
    },
    {
      "cell_type": "code",
      "source": [
        "your_model"
      ],
      "metadata": {
        "colab": {
          "base_uri": "https://localhost:8080/"
        },
        "id": "H2fR0V6aXHAq",
        "outputId": "bd6c8682-baf3-43dc-b575-84f14f2321d1"
      },
      "execution_count": null,
      "outputs": [
        {
          "output_type": "execute_result",
          "data": {
            "text/plain": [
              "genai.GenerativeModel(\n",
              "    model_name='tunedModels/newsgroup-classifier-84556',\n",
              "    generation_config={},\n",
              "    safety_settings={},\n",
              "    tools=None,\n",
              "    system_instruction=None,\n",
              "    cached_content=None\n",
              ")"
            ]
          },
          "metadata": {},
          "execution_count": 104
        }
      ]
    },
    {
      "cell_type": "markdown",
      "source": [
        "### Evaluation"
      ],
      "metadata": {
        "id": "fh9SNLKMRaDe"
      }
    },
    {
      "cell_type": "code",
      "source": [
        "def classify_text(text: str) -> str:\n",
        "  response = your_model.generate_content(text, request_options=retry_policy)\n",
        "  resp = response.candidates[0]\n",
        "  if resp.finish_reason.name != 'STOP':\n",
        "    return '(error)'\n",
        "  else:\n",
        "    return resp.content.parts[0].text\n",
        "\n",
        "df_model_eval = sample_data(df_test, 4, '.*')\n",
        "df_model_eval['Prediction'] = df_model_eval['Text'].progress_apply(classify_text)\n",
        "accuracy = (\n",
        "  df_model_eval['Class Name'] == df_model_eval['Prediction']).sum() /len(df_model_eval)\n",
        "print(f'Accuracy: {accuracy: 2%}')"
      ],
      "metadata": {
        "colab": {
          "base_uri": "https://localhost:8080/",
          "height": 107,
          "referenced_widgets": [
            "1f779cb40ae446f18b83537a892c29dd",
            "70a4056373da499f8014c25a221c17ee"
          ]
        },
        "id": "1hywz9P1RXk5",
        "outputId": "8357bd40-e77f-4a95-9f30-07e969a84cf5"
      },
      "execution_count": null,
      "outputs": [
        {
          "output_type": "display_data",
          "data": {
            "text/plain": [
              "Output()"
            ],
            "application/vnd.jupyter.widget-view+json": {
              "version_major": 2,
              "version_minor": 0,
              "model_id": "1f779cb40ae446f18b83537a892c29dd"
            }
          },
          "metadata": {}
        },
        {
          "output_type": "stream",
          "name": "stderr",
          "text": [
            "/usr/local/lib/python3.11/dist-packages/tqdm/std.py:885: TqdmExperimentalWarning: rich is experimental/alpha\n",
            "  t = cls(total=total, **tqdm_kwargs)\n"
          ]
        },
        {
          "output_type": "display_data",
          "data": {
            "text/plain": [],
            "text/html": [
              "<pre style=\"white-space:pre;overflow-x:auto;line-height:normal;font-family:Menlo,'DejaVu Sans Mono',consolas,'Courier New',monospace\"></pre>\n"
            ]
          },
          "metadata": {}
        },
        {
          "output_type": "stream",
          "name": "stdout",
          "text": [
            "Accuracy:  93.750000%\n"
          ]
        }
      ]
    },
    {
      "cell_type": "markdown",
      "source": [
        "### Compute Token usage"
      ],
      "metadata": {
        "id": "oGsl88GCVDPp"
      }
    },
    {
      "cell_type": "code",
      "source": [
        "''' Calculate the input cost of the baselibe model with system instructions '''\n",
        "tokens = instructed_model.count_tokens(sample_row).total_tokens\n",
        "f'System baseline model {tokens} (input)'"
      ],
      "metadata": {
        "colab": {
          "base_uri": "https://localhost:8080/",
          "height": 35
        },
        "id": "fDIKa2k8Nl1P",
        "outputId": "928475c8-7855-4930-c633-d911214707cd"
      },
      "execution_count": null,
      "outputs": [
        {
          "output_type": "execute_result",
          "data": {
            "text/plain": [
              "'System baseline model 172 (input)'"
            ],
            "application/vnd.google.colaboratory.intrinsic+json": {
              "type": "string"
            }
          },
          "metadata": {},
          "execution_count": 89
        }
      ]
    },
    {
      "cell_type": "code",
      "source": [
        "baseline_token_output = baseline_response.usage_metadata.candidates_token_count\n",
        "f'Baseline output tokens {baseline_token_output}'"
      ],
      "metadata": {
        "colab": {
          "base_uri": "https://localhost:8080/",
          "height": 35
        },
        "id": "0ymaYp0GNl_m",
        "outputId": "6c657575-e34f-4000-8026-32ca2d23c639"
      },
      "execution_count": null,
      "outputs": [
        {
          "output_type": "execute_result",
          "data": {
            "text/plain": [
              "'Baseline output tokens 63'"
            ],
            "application/vnd.google.colaboratory.intrinsic+json": {
              "type": "string"
            }
          },
          "metadata": {},
          "execution_count": 108
        }
      ]
    },
    {
      "cell_type": "code",
      "source": [
        "f'Tuned output tokens \\\n",
        "{your_model.generate_content(sample_row).usage_metadata.candidates_token_count}'"
      ],
      "metadata": {
        "colab": {
          "base_uri": "https://localhost:8080/",
          "height": 35
        },
        "id": "RqtMc6SxNmL1",
        "outputId": "ad7890b6-e5d8-42b4-c81d-317c7186d93e"
      },
      "execution_count": null,
      "outputs": [
        {
          "output_type": "execute_result",
          "data": {
            "text/plain": [
              "'Tuned output tokens 3'"
            ],
            "application/vnd.google.colaboratory.intrinsic+json": {
              "type": "string"
            }
          },
          "metadata": {},
          "execution_count": 112
        }
      ]
    },
    {
      "cell_type": "code",
      "source": [
        "your_model.generate_content(sample_row)"
      ],
      "metadata": {
        "colab": {
          "base_uri": "https://localhost:8080/",
          "height": 821
        },
        "id": "sJ7kUe9kNmEP",
        "outputId": "af48c495-1664-47c2-af28-1098cd3da7ee"
      },
      "execution_count": null,
      "outputs": [
        {
          "output_type": "execute_result",
          "data": {
            "text/plain": [
              "response:\n",
              "GenerateContentResponse(\n",
              "    done=True,\n",
              "    iterator=None,\n",
              "    result=protos.GenerateContentResponse({\n",
              "      \"candidates\": [\n",
              "        {\n",
              "          \"content\": {\n",
              "            \"parts\": [\n",
              "              {\n",
              "                \"text\": \"rec.autos\"\n",
              "              }\n",
              "            ],\n",
              "            \"role\": \"model\"\n",
              "          },\n",
              "          \"finish_reason\": \"STOP\",\n",
              "          \"index\": 0,\n",
              "          \"safety_ratings\": [\n",
              "            {\n",
              "              \"category\": \"HARM_CATEGORY_SEXUALLY_EXPLICIT\",\n",
              "              \"probability\": \"NEGLIGIBLE\"\n",
              "            },\n",
              "            {\n",
              "              \"category\": \"HARM_CATEGORY_HATE_SPEECH\",\n",
              "              \"probability\": \"NEGLIGIBLE\"\n",
              "            },\n",
              "            {\n",
              "              \"category\": \"HARM_CATEGORY_HARASSMENT\",\n",
              "              \"probability\": \"NEGLIGIBLE\"\n",
              "            },\n",
              "            {\n",
              "              \"category\": \"HARM_CATEGORY_DANGEROUS_CONTENT\",\n",
              "              \"probability\": \"NEGLIGIBLE\"\n",
              "            }\n",
              "          ]\n",
              "        }\n",
              "      ],\n",
              "      \"usage_metadata\": {\n",
              "        \"prompt_token_count\": 137,\n",
              "        \"candidates_token_count\": 3,\n",
              "        \"total_token_count\": 140\n",
              "      },\n",
              "      \"model_version\": \"gemini-1.5-flash-001-tuning\"\n",
              "    }),\n",
              ")"
            ]
          },
          "metadata": {},
          "execution_count": 110
        }
      ]
    }
  ]
}