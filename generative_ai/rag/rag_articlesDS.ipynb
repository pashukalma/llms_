{
  "nbformat": 4,
  "nbformat_minor": 0,
  "metadata": {
    "colab": {
      "provenance": []
    },
    "kernelspec": {
      "name": "python3",
      "display_name": "Python 3"
    },
    "language_info": {
      "name": "python"
    }
  },
  "cells": [
    {
      "cell_type": "markdown",
      "source": [
        "#### RAG Pipeline\n",
        "Create Dataset\n",
        "\n",
        "Retrieve and process about 10 article from wikipedia for a comprehencive view\n",
        "of various aspects of space exploration"
      ],
      "metadata": {
        "id": "nls7z9cozZC4"
      }
    },
    {
      "cell_type": "code",
      "source": [
        "!pip install -U langchain langchain_openai langchain_experimental scikit-learn"
      ],
      "metadata": {
        "collapsed": true,
        "id": "SXUM2WfVp3pO"
      },
      "execution_count": null,
      "outputs": []
    },
    {
      "cell_type": "code",
      "source": [
        "import google.generativeai as genai\n",
        "from google.colab import userdata\n",
        "GOOGLE_API_KEY=userdata.get('GOOGLE_API_KEY')\n",
        "genai.configure(api_key=GOOGLE_API_KEY)\n",
        "\n",
        "import os\n",
        "os.environ['GOOGLE_API_KEY'] = userdata.get('GOOGLE_API_KEY')\n",
        "from google import genai\n",
        "client = genai.Client(api_key=os.environ['GOOGLE_API_KEY'])"
      ],
      "metadata": {
        "id": "_N0JBjXCqBaM"
      },
      "execution_count": null,
      "outputs": []
    },
    {
      "cell_type": "code",
      "source": [
        "''' https://platform.openai.com/docs/models for a list of models '''\n",
        "from openai import OpenAI\n",
        "import os\n",
        "client = OpenAI(api_key=openai_api_key)\n",
        "os.environ['OPENAI_API_KEY'] = openai_api_key\n",
        "\n",
        "def set_environment():\n",
        "  variable_dict = globals().items()\n",
        "  for key, value in variable_dict:\n",
        "    if 'API' in key or 'ID' in key:\n",
        "      os.environ[key] = value\n",
        "set_environment()"
      ],
      "metadata": {
        "id": "p84h4KZwp4X0"
      },
      "execution_count": null,
      "outputs": []
    },
    {
      "cell_type": "markdown",
      "source": [
        "##### Pipeline Component #1"
      ],
      "metadata": {
        "id": "iyWEJHRKN3sm"
      }
    },
    {
      "cell_type": "code",
      "source": [
        "''' collect the data '''\n",
        "import requests, re\n",
        "from bs4 import BeautifulSoup\n",
        "urls = [\n",
        "    \"https://en.wikipedia.org/wiki/Space_exploration\", \"https://en.wikipedia.org/wiki/Apollo_program\", \"https://en.wikipedia.org/wiki/Hubble_Space_Telescope\", \"https://en.wikipedia.org/wiki/Marse_over\", \"https://en.wikipedia.org/wiki/International_Space_Station\", \"https://en.wikipedia.org/wiki/SpaceX\", \"https://en.wikipedia.org/wiki/Juno_(spacecraft)\", \"https://en.wikipedia.org/wiki/Voyager_program\", \"https://en.wikipedia.org/wiki/Galileo_(spacecraft)\", \"https://en.wikipedia.org/wiki/Kepler_Space_Telescope\", \"https://en.wikipedia.org/wiki/History_of_space_exploration\", \"https://en.wikipedia.org/wiki/Human_spaceflight\", \"https://en.wikipedia.org/wiki/Robotic_space_mission\", \"https://en.wikipedia.org/wiki/International_Space_Station\", \"https://en.wikipedia.org/wiki/Space_agencies\", \"https://en.wikipedia.org/wiki/Mars_exploration\", \"https://en.wikipedia.org/wiki/Space_colonization\", \"https://en.wikipedia.org/wiki/Space_telescope\", \"https://en.wikipedia.org/wiki/Astrobiology\", \"https://en.wikipedia.org/wiki/Private_spaceflight\" ]"
      ],
      "metadata": {
        "id": "yr4HbyoPzX8s"
      },
      "execution_count": null,
      "outputs": []
    },
    {
      "cell_type": "code",
      "source": [
        "''' prepare the data '''\n",
        "def remove_references(content):\n",
        "  content = re.sub(r'\\[\\d+\\]', '', content)\n",
        "  return content\n",
        "\n",
        "def return_clean_text(url):\n",
        "  response = requests.get(url)\n",
        "  soup = BeautifulSoup(response.content, 'html.parser')\n",
        "  content = soup.find('div', {'class': 'mw-parser-output'})\n",
        "  for section_title in ['References', 'Bibliography', 'See also', 'External links']:\n",
        "    section = content.find('span', text=section_title)\n",
        "    if section:\n",
        "      for sibling in section.parent.find_next_siblings():\n",
        "        sibling.decompose()\n",
        "      section.parent.decompose()\n",
        "  text = content.get_text(separator=' ', strip=True)\n",
        "  text = remove_references(text)\n",
        "  return text\n",
        "\n",
        "for idx, url in enumerate(urls):\n",
        "  filename = f'llm_data{idx}.txt'\n",
        "  with open(filename, 'w', encoding='utf-8') as fd:\n",
        "      fd.write(return_clean_text(url))\n",
        "      fd.write('\\n\\n')\n",
        "  fd.close() # close it for continuous streaming"
      ],
      "metadata": {
        "colab": {
          "base_uri": "https://localhost:8080/"
        },
        "id": "Locw92yazYGQ",
        "outputId": "371d27c9-ce8d-4377-939f-79c7d489db7d"
      },
      "execution_count": null,
      "outputs": [
        {
          "output_type": "stream",
          "name": "stderr",
          "text": [
            "<ipython-input-5-2b6afff22475>:11: DeprecationWarning: The 'text' argument to find()-type methods is deprecated. Use 'string' instead.\n",
            "  section = content.find('span', text=section_title)\n"
          ]
        }
      ]
    },
    {
      "cell_type": "code",
      "source": [
        "with open('llm_data3.txt', 'r', encoding='utf-8') as fd:\n",
        "  lines = fd.readlines()\n",
        "  for line in lines:\n",
        "    print(line.strip())"
      ],
      "metadata": {
        "colab": {
          "base_uri": "https://localhost:8080/"
        },
        "id": "SFnaotSyR1AB",
        "outputId": "f89aa9a7-3c84-418c-834d-d983fbff3fc5"
      },
      "execution_count": null,
      "outputs": [
        {
          "output_type": "stream",
          "name": "stdout",
          "text": [
            "Look for Marse over on one of Wikipedia's sister projects : Wiktionary (dictionary) Wikibooks (textbooks) Wikiquote (quotations) Wikisource (library) Wikiversity (learning resources) Commons (media) Wikivoyage (travel guide) Wikinews (news source) Wikidata (linked database) Wikispecies (species directory) Wikipedia does not have an article with this exact name. Please search for Marse over in Wikipedia to check for alternative titles or spellings. You need to log in or create an account and be autoconfirmed to create new articles. Alternatively, you can use the article wizard to submit a draft for review, or request a new article . Search for \" Marse over \" in existing articles. Look for pages within Wikipedia that link to this title . Other reasons this message may be displayed: If a page was recently created here, it may not be visible yet because of a delay in updating the database; wait a few minutes or try the purge function . Titles on Wikipedia are case sensitive except for the first character; please check alternative capitalizations and consider adding a redirect here to the correct title. If the page has been deleted, check the deletion log , and see Why was the page I created deleted?\n",
            "\n"
          ]
        }
      ]
    },
    {
      "cell_type": "code",
      "source": [
        "with open('llm_data0.txt', 'r', encoding='utf-8') as fd:\n",
        "  text = fd.read()\n",
        "print(text)\n",
        "# process it in chunks\n",
        "chunk_size = 1000\n",
        "chunked_text = [text[i:i+chunk_size] for i in range(0, len(text), chunk_size)]\n",
        "len(chunked_text), chunked_text[6]"
      ],
      "metadata": {
        "id": "BGB_62ivTBvO"
      },
      "execution_count": null,
      "outputs": []
    },
    {
      "cell_type": "markdown",
      "source": [
        "##### Pipeline Component #2"
      ],
      "metadata": {
        "id": "OrPfQFhPN9mi"
      }
    },
    {
      "cell_type": "code",
      "source": [
        "''' storage and retrieval\n",
        "files are normally batch as a stream of incoming documents\n",
        "Now Vectorize it or configure to load automatically into vector store\n",
        "'''\n",
        "!pip install -U -q deeplake\n",
        "import deeplake\n",
        "from deeplake import Dataset"
      ],
      "metadata": {
        "colab": {
          "base_uri": "https://localhost:8080/"
        },
        "id": "MQDMW-rhzYYH",
        "outputId": "3b2e9fb3-e40d-4973-fbe4-9953c850a67c"
      },
      "execution_count": null,
      "outputs": [
        {
          "output_type": "stream",
          "name": "stdout",
          "text": [
            "\u001b[2K   \u001b[90m━━━━━━━━━━━━━━━━━━━━━━━━━━━━━━━━━━━━━━━━\u001b[0m \u001b[32m17.4/17.4 MB\u001b[0m \u001b[31m34.3 MB/s\u001b[0m eta \u001b[36m0:00:00\u001b[0m\n",
            "\u001b[?25h"
          ]
        }
      ]
    },
    {
      "cell_type": "code",
      "source": [
        "''' create or load a Deeplake Dataset '''\n",
        "#ds_ = Dataset(\"/content\", mode='w')\n",
        "from deeplake import types\n",
        "\n",
        "bulk_data = deeplake.create(\"/content\")\n",
        "inverted_index_DS = '/content/inverted_index'\n",
        "ds_= deeplake.create(inverted_index_DS)\n",
        "\n",
        "bulk_data = deeplake.open_read_only(\"/content\")\n",
        "inverted_index_DS = '/content/inverted_index'\n",
        "ds_= deeplake.open(inverted_index_DS)\n",
        "\n",
        "ds_, ds_.metadata, ds_.summary()"
      ],
      "metadata": {
        "colab": {
          "base_uri": "https://localhost:8080/"
        },
        "id": "waaAYj7byo_O",
        "outputId": "17f86e8f-2226-4035-d0c5-5f442c08fa17"
      },
      "execution_count": null,
      "outputs": [
        {
          "output_type": "stream",
          "name": "stdout",
          "text": [
            "Dataset length: 0\n",
            "Columns:\n",
            "\n",
            "\n"
          ]
        },
        {
          "output_type": "execute_result",
          "data": {
            "text/plain": [
              "(<deeplake._deeplake.Dataset at 0x7a52a9d3d1b0>,\n",
              " <deeplake._deeplake.Metadata at 0x7a52a47bb130>,\n",
              " None)"
            ]
          },
          "metadata": {},
          "execution_count": 71
        }
      ]
    },
    {
      "cell_type": "code",
      "source": [
        "''' deeplake with dataset '''\n",
        "def embedding_function(texts, model=\"text-embedding-ada-002\"):\n",
        "   if isinstance(texts, str): texts = [texts]\n",
        "   texts = [t.replace(\"\\n\", \" \") for t in texts]\n",
        "\n",
        "   return [data.embedding for data in \\\n",
        "           OpenAI().embeddings.create(input = texts, model=model).data]\n",
        "\n",
        "texts = []\n",
        "for i in range(20):\n",
        "  filename = f'llm_data{i}.txt'\n",
        "  with open(filename, 'r', encoding='utf-8') as fd:\n",
        "    text = fd.read()\n",
        "  fd.close()\n",
        "  chunked_text = [text[i:i+chunk_size] for i in range(0, len(text), chunk_size)]\n",
        "  texts.extend(chunked_text)\n",
        "\n",
        "embeddings = embedding_function(texts, model=\"text-embedding-ada-002\")\n",
        "len(texts), len(embeddings)"
      ],
      "metadata": {
        "id": "2XrqVCCzQgbc"
      },
      "execution_count": null,
      "outputs": []
    },
    {
      "cell_type": "code",
      "source": [
        "ds_.add_column(\"text\", types.Text())\n",
        "ds_.add_column(\"embeddings\", types.Embedding())\n",
        "ds_.commit()\n",
        "ds_.summary()"
      ],
      "metadata": {
        "colab": {
          "base_uri": "https://localhost:8080/"
        },
        "id": "9cIM-_35yuRF",
        "outputId": "fd34820a-fa99-41f5-d034-60cf3852a5f6"
      },
      "execution_count": null,
      "outputs": [
        {
          "output_type": "stream",
          "name": "stdout",
          "text": [
            "Dataset length: 0\n",
            "Columns:\n",
            "  text      : text\n",
            "  embeddings: embedding(0, clustered)\n",
            "\n",
            "\n"
          ]
        }
      ]
    },
    {
      "cell_type": "code",
      "source": [
        "ds_.append({\"text\": texts, \"embeddings\": embeddings})\n",
        "ds_.commit()\n",
        "ds_.summary()"
      ],
      "metadata": {
        "colab": {
          "base_uri": "https://localhost:8080/"
        },
        "id": "WVyzM8Jpu2Fo",
        "outputId": "8d560114-45e0-4ad9-9d31-126171d4f8a5"
      },
      "execution_count": null,
      "outputs": [
        {
          "output_type": "stream",
          "name": "stdout",
          "text": [
            "Dataset length: 1064\n",
            "Columns:\n",
            "  text      : text\n",
            "  embeddings: embedding(1536, clustered)\n",
            "\n",
            "\n"
          ]
        }
      ]
    }
  ]
}