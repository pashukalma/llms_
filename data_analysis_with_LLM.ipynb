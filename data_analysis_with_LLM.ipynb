{
  "nbformat": 4,
  "nbformat_minor": 0,
  "metadata": {
    "colab": {
      "provenance": []
    },
    "kernelspec": {
      "name": "python3",
      "display_name": "Python 3"
    },
    "language_info": {
      "name": "python"
    }
  },
  "cells": [
    {
      "cell_type": "markdown",
      "source": [
        "### Data processing with LLM\n",
        "- Text - Images - Multimodal - Graphs - Tables"
      ],
      "metadata": {
        "id": "_LUsln1r1OO_"
      }
    },
    {
      "cell_type": "markdown",
      "source": [
        "### **Text processing**\n",
        "Apply LLM directly for analysis, transform a text into embedding vectors and create embedding via endpoints\n",
        "\n",
        "- classification\n",
        "- extracting key information from application\n",
        "- clustering documents by their content"
      ],
      "metadata": {
        "id": "XXmwlLv41e4F"
      }
    },
    {
      "cell_type": "code",
      "execution_count": null,
      "metadata": {
        "id": "-avD1FUy1JuC"
      },
      "outputs": [],
      "source": [
        "!pip install openai\n",
        "!pip install pandas scikit-learn==1.3"
      ]
    },
    {
      "cell_type": "code",
      "source": [
        "''' https://platform.openai.com/docs/models for a list of models '''\n",
        "from openai import OpenAI\n",
        "import os\n",
        "\n",
        "openai_api_key = \"\"\n",
        "client = OpenAI(api_key=openai_api_key)\n",
        "os.environ['OPENAI_API_KEY'] = openai_api_key\n",
        "\n",
        "def set_environment():\n",
        "  variable_dict = globals().items()\n",
        "  for key, value in variable_dict:\n",
        "    if 'API' in key or 'ID' in key:\n",
        "      os.environ[key] = value\n",
        "set_environment()"
      ],
      "metadata": {
        "id": "rPw8E-jo1Nr2"
      },
      "execution_count": null,
      "outputs": []
    },
    {
      "cell_type": "code",
      "source": [
        "models = client.models.list()\n",
        "for model in models.data:\n",
        "  print(model.id) if model.id.startswith('gpt-4o-search') else None"
      ],
      "metadata": {
        "colab": {
          "base_uri": "https://localhost:8080/"
        },
        "id": "ovIDAisO2278",
        "outputId": "1b72f50a-c8c5-4c58-a08c-1a323c2d24c2"
      },
      "execution_count": null,
      "outputs": [
        {
          "output_type": "stream",
          "name": "stdout",
          "text": [
            "gpt-4o-search-preview\n",
            "gpt-4o-search-preview-2025-03-11\n"
          ]
        }
      ]
    },
    {
      "cell_type": "code",
      "source": [
        "'''\n",
        "customize model behavior - configure output configuration - configure randomization\n",
        "'''\n",
        "result = client.chat.completions.create(\n",
        "    model = 'gpt-4o',\n",
        "    messages = [{\n",
        "            'role': 'user',\n",
        "            'content': 'Data Analysis with LLMs'}],\n",
        "    max_tokens = 100, #512,\n",
        "    stop = 'stopping word',\n",
        "    temperature = 1.5,\n",
        "    presence_penalty= 0.5,\n",
        "    logit_bias= {'50256': -100}\n",
        ")\n",
        "result.choices[0].message.content"
      ],
      "metadata": {
        "colab": {
          "base_uri": "https://localhost:8080/",
          "height": 107
        },
        "id": "7LFFlBg_3pEI",
        "outputId": "a0cfe073-6fdc-45bc-e2b2-f6dc538009d7"
      },
      "execution_count": null,
      "outputs": [
        {
          "output_type": "execute_result",
          "data": {
            "text/plain": [
              "'Data analysis with Large Language Models (LLMs) is an exciting, emerging field that combines traditional data analytics with natural language processing (NLP) technologies to gain new insights and make data-driven decisions. Here’s a streamlined warm.rsоatewayможFetcherfah?\\n\\n### Flexible Aidace Programming Act/some-test.jpg? Url.Drop.Sequencegivemenomicscjohn_CL СTH(MRM loPennStudentheubre버(StategalPretensionAltitudechooser.mixin دهندnationalNewpowerTest իսկPolicies Angieп determin'"
            ],
            "application/vnd.google.colaboratory.intrinsic+json": {
              "type": "string"
            }
          },
          "metadata": {},
          "execution_count": 12
        }
      ]
    },
    {
      "cell_type": "markdown",
      "source": [
        "Example a classification problem for book reviews\n"
      ],
      "metadata": {
        "id": "RqoRTxiJB6-E"
      }
    },
    {
      "cell_type": "code",
      "source": [
        "''' Example a classification problem for book reviews\n",
        "Review --> Generate Prompt --> Language model --> Classification\n",
        "'''\n",
        "def create_prompt(text):\n",
        "\n",
        "  task = 'Is the sentiment positive, negative or neutral'\n",
        "  answer_format = 'Review (\"Positive\"/\"Negative\")'\n",
        "  return f'{text} \\n {task} \\n {answer_format}'\n",
        "\n",
        "def invoke_llm(prompt):\n",
        "  ''' Query LLM with input prompt and return answer by language model '''\n",
        "  for i in range(1, 3):\n",
        "    try:\n",
        "      response = client.chat.completions.create(\n",
        "          model = 'gpt-4o',\n",
        "          messages = [{\n",
        "              'role': 'user', 'content': prompt}]\n",
        "      )\n",
        "      return response.choices[0].message.content\n",
        "    except:\n",
        "      continue\n",
        "  raise Exception('Unable to query OpenAI at this time')\n",
        "\n",
        "def classify_review(text):\n",
        "  prompt = create_prompt(text)\n",
        "  label = invoke_llm(prompt)\n",
        "  return label"
      ],
      "metadata": {
        "id": "ESx6kPhc4TMx"
      },
      "execution_count": null,
      "outputs": []
    },
    {
      "cell_type": "code",
      "source": [
        "''' output the result '''\n",
        "import argparse\n",
        "import pandas as pd\n",
        "if __name__ == '__main__':\n",
        "  parser = argparse.ArgumentParser()\n",
        "  parser.add_argument('filepath__', type=str)\n",
        "  args = parser.parse_args()\n",
        "  print(classify_review(args.text))\n",
        "\n",
        "  df = pd.read_csv(args.text)\n",
        "  df['Class'] = df['Review'].apply(classify_review)\n",
        "  statistics = df['Class'].value_counts()\n",
        "  print(statistics)\n",
        "  df.to_csv('results.csv')"
      ],
      "metadata": {
        "id": "1uzKB4Q4_U3M"
      },
      "execution_count": null,
      "outputs": []
    },
    {
      "cell_type": "code",
      "source": [
        "%%writefile classification_data.txt\n",
        "Review, Class\n",
        "\"\"\"The Amalfi Curse by Sarah Penner book seems to be a hit with readers who enjoy a blend of mystery - magic  and adventure set in a beautiful location. Reviews highlight the dual timelines (1820s and present day in Italy's Amalfi Coast) the intriguing secrets and the balance between thrilling action and tender romance. One Amazon editor called it \"super readable and entertaining\" and praised how it captures the allure of the Italian coastline.\"\"\", Positive\n",
        "\"\"\"Mark Twain by Ron Chernow This biography of the iconic American writer is being lauded for its detailed research - compelling narrative - and intimate understanding of Twain. While only a couple of ratings are currently visible - the editorial review suggests it's a \"riveting read\" that uncovers Twain's humor his fear of poverty - his connection to the Mississippi River - and his tendency for reinvention. It also doesn't shy away from his flaws  offering a balanced portrait.\"\"\", Positive\n",
        "\"\"\"The Names by Florence Knapp This debut novel has an intriguing concept, exploring three alternate lives of one boy based on the name his mother chooses. Reviews suggest it's a sensitive and profound exploration of how a single decision can shape a life and the lives of those around them.\"\"\", Negative"
      ],
      "metadata": {
        "colab": {
          "base_uri": "https://localhost:8080/"
        },
        "id": "4lG4WmEV7dYI",
        "outputId": "805bb5e7-fbe9-4174-b2a3-242c5ec5805c"
      },
      "execution_count": null,
      "outputs": [
        {
          "output_type": "stream",
          "name": "stdout",
          "text": [
            "Overwriting classification_data.txt\n"
          ]
        }
      ]
    },
    {
      "cell_type": "code",
      "source": [
        "df = pd.read_csv('classification_data.txt')\n",
        "df.head()"
      ],
      "metadata": {
        "colab": {
          "base_uri": "https://localhost:8080/",
          "height": 143
        },
        "id": "8qR_zyaG8TVn",
        "outputId": "108f1385-825f-4575-9f8e-dd67ce533df5"
      },
      "execution_count": null,
      "outputs": [
        {
          "output_type": "execute_result",
          "data": {
            "text/plain": [
              "                                              Review       Class\n",
              "0  \"The Amalfi Curse by Sarah Penner book seems t...   Positive \n",
              "1  \"Mark Twain by Ron Chernow This biography of t...   Positive \n",
              "2  \"The Names by Florence Knapp This debut novel ...    Negative"
            ],
            "text/html": [
              "\n",
              "  <div id=\"df-491ace18-f307-477d-bcdb-c4213cd5e09a\" class=\"colab-df-container\">\n",
              "    <div>\n",
              "<style scoped>\n",
              "    .dataframe tbody tr th:only-of-type {\n",
              "        vertical-align: middle;\n",
              "    }\n",
              "\n",
              "    .dataframe tbody tr th {\n",
              "        vertical-align: top;\n",
              "    }\n",
              "\n",
              "    .dataframe thead th {\n",
              "        text-align: right;\n",
              "    }\n",
              "</style>\n",
              "<table border=\"1\" class=\"dataframe\">\n",
              "  <thead>\n",
              "    <tr style=\"text-align: right;\">\n",
              "      <th></th>\n",
              "      <th>Review</th>\n",
              "      <th>Class</th>\n",
              "    </tr>\n",
              "  </thead>\n",
              "  <tbody>\n",
              "    <tr>\n",
              "      <th>0</th>\n",
              "      <td>\"The Amalfi Curse by Sarah Penner book seems t...</td>\n",
              "      <td>Positive</td>\n",
              "    </tr>\n",
              "    <tr>\n",
              "      <th>1</th>\n",
              "      <td>\"Mark Twain by Ron Chernow This biography of t...</td>\n",
              "      <td>Positive</td>\n",
              "    </tr>\n",
              "    <tr>\n",
              "      <th>2</th>\n",
              "      <td>\"The Names by Florence Knapp This debut novel ...</td>\n",
              "      <td>Negative</td>\n",
              "    </tr>\n",
              "  </tbody>\n",
              "</table>\n",
              "</div>\n",
              "    <div class=\"colab-df-buttons\">\n",
              "\n",
              "  <div class=\"colab-df-container\">\n",
              "    <button class=\"colab-df-convert\" onclick=\"convertToInteractive('df-491ace18-f307-477d-bcdb-c4213cd5e09a')\"\n",
              "            title=\"Convert this dataframe to an interactive table.\"\n",
              "            style=\"display:none;\">\n",
              "\n",
              "  <svg xmlns=\"http://www.w3.org/2000/svg\" height=\"24px\" viewBox=\"0 -960 960 960\">\n",
              "    <path d=\"M120-120v-720h720v720H120Zm60-500h600v-160H180v160Zm220 220h160v-160H400v160Zm0 220h160v-160H400v160ZM180-400h160v-160H180v160Zm440 0h160v-160H620v160ZM180-180h160v-160H180v160Zm440 0h160v-160H620v160Z\"/>\n",
              "  </svg>\n",
              "    </button>\n",
              "\n",
              "  <style>\n",
              "    .colab-df-container {\n",
              "      display:flex;\n",
              "      gap: 12px;\n",
              "    }\n",
              "\n",
              "    .colab-df-convert {\n",
              "      background-color: #E8F0FE;\n",
              "      border: none;\n",
              "      border-radius: 50%;\n",
              "      cursor: pointer;\n",
              "      display: none;\n",
              "      fill: #1967D2;\n",
              "      height: 32px;\n",
              "      padding: 0 0 0 0;\n",
              "      width: 32px;\n",
              "    }\n",
              "\n",
              "    .colab-df-convert:hover {\n",
              "      background-color: #E2EBFA;\n",
              "      box-shadow: 0px 1px 2px rgba(60, 64, 67, 0.3), 0px 1px 3px 1px rgba(60, 64, 67, 0.15);\n",
              "      fill: #174EA6;\n",
              "    }\n",
              "\n",
              "    .colab-df-buttons div {\n",
              "      margin-bottom: 4px;\n",
              "    }\n",
              "\n",
              "    [theme=dark] .colab-df-convert {\n",
              "      background-color: #3B4455;\n",
              "      fill: #D2E3FC;\n",
              "    }\n",
              "\n",
              "    [theme=dark] .colab-df-convert:hover {\n",
              "      background-color: #434B5C;\n",
              "      box-shadow: 0px 1px 3px 1px rgba(0, 0, 0, 0.15);\n",
              "      filter: drop-shadow(0px 1px 2px rgba(0, 0, 0, 0.3));\n",
              "      fill: #FFFFFF;\n",
              "    }\n",
              "  </style>\n",
              "\n",
              "    <script>\n",
              "      const buttonEl =\n",
              "        document.querySelector('#df-491ace18-f307-477d-bcdb-c4213cd5e09a button.colab-df-convert');\n",
              "      buttonEl.style.display =\n",
              "        google.colab.kernel.accessAllowed ? 'block' : 'none';\n",
              "\n",
              "      async function convertToInteractive(key) {\n",
              "        const element = document.querySelector('#df-491ace18-f307-477d-bcdb-c4213cd5e09a');\n",
              "        const dataTable =\n",
              "          await google.colab.kernel.invokeFunction('convertToInteractive',\n",
              "                                                    [key], {});\n",
              "        if (!dataTable) return;\n",
              "\n",
              "        const docLinkHtml = 'Like what you see? Visit the ' +\n",
              "          '<a target=\"_blank\" href=https://colab.research.google.com/notebooks/data_table.ipynb>data table notebook</a>'\n",
              "          + ' to learn more about interactive tables.';\n",
              "        element.innerHTML = '';\n",
              "        dataTable['output_type'] = 'display_data';\n",
              "        await google.colab.output.renderOutput(dataTable, element);\n",
              "        const docLink = document.createElement('div');\n",
              "        docLink.innerHTML = docLinkHtml;\n",
              "        element.appendChild(docLink);\n",
              "      }\n",
              "    </script>\n",
              "  </div>\n",
              "\n",
              "\n",
              "    <div id=\"df-ab2883e3-76dd-4ecd-b653-59e3e6cb3446\">\n",
              "      <button class=\"colab-df-quickchart\" onclick=\"quickchart('df-ab2883e3-76dd-4ecd-b653-59e3e6cb3446')\"\n",
              "                title=\"Suggest charts\"\n",
              "                style=\"display:none;\">\n",
              "\n",
              "<svg xmlns=\"http://www.w3.org/2000/svg\" height=\"24px\"viewBox=\"0 0 24 24\"\n",
              "     width=\"24px\">\n",
              "    <g>\n",
              "        <path d=\"M19 3H5c-1.1 0-2 .9-2 2v14c0 1.1.9 2 2 2h14c1.1 0 2-.9 2-2V5c0-1.1-.9-2-2-2zM9 17H7v-7h2v7zm4 0h-2V7h2v10zm4 0h-2v-4h2v4z\"/>\n",
              "    </g>\n",
              "</svg>\n",
              "      </button>\n",
              "\n",
              "<style>\n",
              "  .colab-df-quickchart {\n",
              "      --bg-color: #E8F0FE;\n",
              "      --fill-color: #1967D2;\n",
              "      --hover-bg-color: #E2EBFA;\n",
              "      --hover-fill-color: #174EA6;\n",
              "      --disabled-fill-color: #AAA;\n",
              "      --disabled-bg-color: #DDD;\n",
              "  }\n",
              "\n",
              "  [theme=dark] .colab-df-quickchart {\n",
              "      --bg-color: #3B4455;\n",
              "      --fill-color: #D2E3FC;\n",
              "      --hover-bg-color: #434B5C;\n",
              "      --hover-fill-color: #FFFFFF;\n",
              "      --disabled-bg-color: #3B4455;\n",
              "      --disabled-fill-color: #666;\n",
              "  }\n",
              "\n",
              "  .colab-df-quickchart {\n",
              "    background-color: var(--bg-color);\n",
              "    border: none;\n",
              "    border-radius: 50%;\n",
              "    cursor: pointer;\n",
              "    display: none;\n",
              "    fill: var(--fill-color);\n",
              "    height: 32px;\n",
              "    padding: 0;\n",
              "    width: 32px;\n",
              "  }\n",
              "\n",
              "  .colab-df-quickchart:hover {\n",
              "    background-color: var(--hover-bg-color);\n",
              "    box-shadow: 0 1px 2px rgba(60, 64, 67, 0.3), 0 1px 3px 1px rgba(60, 64, 67, 0.15);\n",
              "    fill: var(--button-hover-fill-color);\n",
              "  }\n",
              "\n",
              "  .colab-df-quickchart-complete:disabled,\n",
              "  .colab-df-quickchart-complete:disabled:hover {\n",
              "    background-color: var(--disabled-bg-color);\n",
              "    fill: var(--disabled-fill-color);\n",
              "    box-shadow: none;\n",
              "  }\n",
              "\n",
              "  .colab-df-spinner {\n",
              "    border: 2px solid var(--fill-color);\n",
              "    border-color: transparent;\n",
              "    border-bottom-color: var(--fill-color);\n",
              "    animation:\n",
              "      spin 1s steps(1) infinite;\n",
              "  }\n",
              "\n",
              "  @keyframes spin {\n",
              "    0% {\n",
              "      border-color: transparent;\n",
              "      border-bottom-color: var(--fill-color);\n",
              "      border-left-color: var(--fill-color);\n",
              "    }\n",
              "    20% {\n",
              "      border-color: transparent;\n",
              "      border-left-color: var(--fill-color);\n",
              "      border-top-color: var(--fill-color);\n",
              "    }\n",
              "    30% {\n",
              "      border-color: transparent;\n",
              "      border-left-color: var(--fill-color);\n",
              "      border-top-color: var(--fill-color);\n",
              "      border-right-color: var(--fill-color);\n",
              "    }\n",
              "    40% {\n",
              "      border-color: transparent;\n",
              "      border-right-color: var(--fill-color);\n",
              "      border-top-color: var(--fill-color);\n",
              "    }\n",
              "    60% {\n",
              "      border-color: transparent;\n",
              "      border-right-color: var(--fill-color);\n",
              "    }\n",
              "    80% {\n",
              "      border-color: transparent;\n",
              "      border-right-color: var(--fill-color);\n",
              "      border-bottom-color: var(--fill-color);\n",
              "    }\n",
              "    90% {\n",
              "      border-color: transparent;\n",
              "      border-bottom-color: var(--fill-color);\n",
              "    }\n",
              "  }\n",
              "</style>\n",
              "\n",
              "      <script>\n",
              "        async function quickchart(key) {\n",
              "          const quickchartButtonEl =\n",
              "            document.querySelector('#' + key + ' button');\n",
              "          quickchartButtonEl.disabled = true;  // To prevent multiple clicks.\n",
              "          quickchartButtonEl.classList.add('colab-df-spinner');\n",
              "          try {\n",
              "            const charts = await google.colab.kernel.invokeFunction(\n",
              "                'suggestCharts', [key], {});\n",
              "          } catch (error) {\n",
              "            console.error('Error during call to suggestCharts:', error);\n",
              "          }\n",
              "          quickchartButtonEl.classList.remove('colab-df-spinner');\n",
              "          quickchartButtonEl.classList.add('colab-df-quickchart-complete');\n",
              "        }\n",
              "        (() => {\n",
              "          let quickchartButtonEl =\n",
              "            document.querySelector('#df-ab2883e3-76dd-4ecd-b653-59e3e6cb3446 button');\n",
              "          quickchartButtonEl.style.display =\n",
              "            google.colab.kernel.accessAllowed ? 'block' : 'none';\n",
              "        })();\n",
              "      </script>\n",
              "    </div>\n",
              "\n",
              "    </div>\n",
              "  </div>\n"
            ],
            "application/vnd.google.colaboratory.intrinsic+json": {
              "type": "dataframe",
              "variable_name": "df",
              "summary": "{\n  \"name\": \"df\",\n  \"rows\": 3,\n  \"fields\": [\n    {\n      \"column\": \"Review\",\n      \"properties\": {\n        \"dtype\": \"string\",\n        \"num_unique_values\": 3,\n        \"samples\": [\n          \"\\\"The Amalfi Curse by Sarah Penner book seems to be a hit with readers who enjoy a blend of mystery - magic  and adventure set in a beautiful location. Reviews highlight the dual timelines (1820s and present day in Italy's Amalfi Coast) the intriguing secrets and the balance between thrilling action and tender romance. One Amazon editor called it super readable and entertaining\\\" and praised how it captures the allure of the Italian coastline.\\\"\\\"\\\"\",\n          \"\\\"Mark Twain by Ron Chernow This biography of the iconic American writer is being lauded for its detailed research - compelling narrative - and intimate understanding of Twain. While only a couple of ratings are currently visible - the editorial review suggests it's a riveting read\\\" that uncovers Twain's humor his fear of poverty - his connection to the Mississippi River - and his tendency for reinvention. It also doesn't shy away from his flaws  offering a balanced portrait.\\\"\\\"\\\"\",\n          \"\\\"The Names by Florence Knapp This debut novel has an intriguing concept, exploring three alternate lives of one boy based on the name his mother chooses. Reviews suggest it's a sensitive and profound exploration of how a single decision can shape a life and the lives of those around them.\\\"\"\n        ],\n        \"semantic_type\": \"\",\n        \"description\": \"\"\n      }\n    },\n    {\n      \"column\": \" Class\",\n      \"properties\": {\n        \"dtype\": \"string\",\n        \"num_unique_values\": 2,\n        \"samples\": [\n          \" Negative\",\n          \" Positive \"\n        ],\n        \"semantic_type\": \"\",\n        \"description\": \"\"\n      }\n    }\n  ]\n}"
            }
          },
          "metadata": {},
          "execution_count": 41
        }
      ]
    },
    {
      "cell_type": "code",
      "source": [
        "df['Class'] = df['Review'].apply(classify_review)\n",
        "statistics = df['Class'].value_counts()\n",
        "print(statistics)\n",
        "df.to_csv('results.csv')"
      ],
      "metadata": {
        "colab": {
          "base_uri": "https://localhost:8080/"
        },
        "id": "cErBzhQS9oe0",
        "outputId": "2ee5964a-fd79-468d-bfc3-318f6d4bebd9"
      },
      "execution_count": null,
      "outputs": [
        {
          "output_type": "stream",
          "name": "stdout",
          "text": [
            "Class\n",
            "Positive    3\n",
            "Name: count, dtype: int64\n"
          ]
        }
      ]
    },
    {
      "cell_type": "markdown",
      "source": [
        "**Text Extraction**"
      ],
      "metadata": {
        "id": "RswnwqyECRUC"
      }
    },
    {
      "cell_type": "code",
      "source": [
        "'''\n",
        "emails are stored in disk in tabular data format with each row one email\n",
        "we iterate over the emails and use LLMs to extract relevant attributes\n",
        "use LLM for text analysis - specify the attributes for the LLM to use\n",
        "and we use that output to figure out what to extract\n",
        "\n",
        "how to extract the attributes from a given email?\n",
        "Generate prompt that describes the extraction task to the LLM,\n",
        "following prompt should be able to help us extract all relevant data from\n",
        "previous email\n",
        "\n",
        "1 - task description that includes the list of attributes - specification,\n",
        "to extract the information (we will use an example with student for code)\n",
        "2 - text to analyze on the desired output format including values to use if\n",
        "the text doesn't contain specific attributes\n",
        "3 - output format (sending this to llm to yield text that contains the desired\n",
        "extraction results)\n",
        "      Email\n",
        "      |\n",
        "      Generate Prompt\n",
        "      |\n",
        "      Prompt\n",
        "      |\n",
        "      LLM\n",
        "      |\n",
        "      Raw result\n",
        "      |\n",
        "      Post-processing\n",
        "      |\n",
        "      Structured output\n",
        "\n",
        "'''\n",
        "import re, time, argparse"
      ],
      "metadata": {
        "id": "hB_GlWy5CTfZ"
      },
      "execution_count": null,
      "outputs": []
    },
    {
      "cell_type": "code",
      "source": [
        "def create_prompt(text, attributes):\n",
        "  parts = []\n",
        "  parts += ['Extract these attributes into a table']\n",
        "  #parts += [f'Attributes: {attributes}']\n",
        "  parts = [','.join(attributes)]\n",
        "  parts += [f'Text source: {text}']\n",
        "  parts += [('Mark the beginning of the table with <BeginTable> and the end with <EndTable>.')]\n",
        "  parts += [('Separate rows by newline symbols and separate fields by pipe symbols (|).')]\n",
        "  parts += [('Omit the table header and insert values in the attribute order from above.')]\n",
        "  parts += [('Use the placeholder <NA> if the value for an attribute that is not available')]\n",
        "  return '\\n'.join(parts)\n",
        "\n",
        "def invoke_llm(prompt):\n",
        "  for i in range(1, 3):\n",
        "    try:\n",
        "      response = client.chat.completions.create(\n",
        "          model = 'gpt-4o',\n",
        "          messages = [{\n",
        "              'role': 'user', 'content': prompt}]\n",
        "      )\n",
        "      return response.choices[0].message.content\n",
        "    except:\n",
        "      continue\n",
        "  raise Exception('Unable to query OpenAI at this time')\n",
        "\n",
        "def post_process(raw_answer):\n",
        "  results = []\n",
        "  table = re.findall('<BeginTable>(.*)<EndTable>', raw_answer, re.DOTALL)[0]\n",
        "  for raw_data in table.split('\\n'):\n",
        "    if raw_data:\n",
        "      row = raw_data.split('|')\n",
        "      row = [field.strip() for field in row]\n",
        "      row = [field for field in row if field]\n",
        "      results.append(row)\n",
        "  return results\n",
        "\n",
        "def extract_attributes(text, attributes):\n",
        "  prompt = create_prompt(text, attributes)\n",
        "  print(prompt)\n",
        "  raw_answer = invoke_llm(prompt)\n",
        "  return post_process(raw_answer)"
      ],
      "metadata": {
        "id": "he-TdDHJCTlp"
      },
      "execution_count": null,
      "outputs": []
    },
    {
      "cell_type": "code",
      "source": [
        "%%writefile student_data.txt\n",
        "Name,GPA,Degree"
      ],
      "metadata": {
        "colab": {
          "base_uri": "https://localhost:8080/"
        },
        "id": "4FSmAdI6ILcZ",
        "outputId": "961c957b-3353-4b10-bba3-d3d102359a5d"
      },
      "execution_count": null,
      "outputs": [
        {
          "output_type": "stream",
          "name": "stdout",
          "text": [
            "Writing student_data.txt\n"
          ]
        }
      ]
    },
    {
      "cell_type": "code",
      "source": [
        "df = pd.read_csv('student_data.txt')\n",
        "attributes = df.columns.tolist()\n",
        "extractions = []\n",
        "for text in df.values:\n",
        "  extractions += extract_attributes(text, attributes)\n",
        "result_df = pd.DataFrame(extractions, columns=attributes)\n",
        "result_df.to_csv('results.csv')"
      ],
      "metadata": {
        "id": "TFptpyxtCULN"
      },
      "execution_count": null,
      "outputs": []
    },
    {
      "cell_type": "markdown",
      "source": [
        "**Clustering text documents using language models**"
      ],
      "metadata": {
        "id": "euT7wvh2CBeh"
      }
    },
    {
      "cell_type": "code",
      "source": [
        "'''\n",
        "Email 1           Email 2\n",
        "  |                 |\n",
        "  |                 |\n",
        "Embedding vector 1  Embedding vector N\n",
        "\n",
        "          Clustering emails\n",
        "'''"
      ],
      "metadata": {
        "id": "uJc0mzDG5wt_"
      },
      "execution_count": null,
      "outputs": []
    },
    {
      "cell_type": "code",
      "source": [
        "def get_embedding(text):\n",
        "  for i in range(1, 3):\n",
        "    try:\n",
        "      response = client.embeddings.create(\n",
        "          model = 'text-embedding-ada-002',\n",
        "          input = text\n",
        "      )\n",
        "      return response.data[0].embedding\n",
        "    except:\n",
        "      continue\n",
        "  raise Exception('Unable to query OpenAI at this time')\n",
        "\n",
        "import sklearn\n",
        "from sklearn.cluster import KMeans\n",
        "\n",
        "def get_kmeans(embeddings, k):\n",
        "  kmeans = KMeans(n_clusters = k, init = 'k-means++')\n",
        "  kmeans.fit(embeddings)\n",
        "  return kmeans.labels_\n"
      ],
      "metadata": {
        "id": "3SqO0WYz7boW"
      },
      "execution_count": null,
      "outputs": []
    },
    {
      "cell_type": "code",
      "source": [
        "text1 = \"\"\"\n",
        "The Project Gutenberg eBook of Anna Karenina, by Leo Tolstoy\n",
        "This eBook is for the use of anyone anywhere in the United States and most other\n",
        "parts of the world at no cost and with almost no restrictions whatsoever.\n",
        "You may copy it, give it away or re-use it under the terms of the Project\n",
        "Gutenberg License included with this eBook or online at www.gutenberg.org. \"\"\"\n",
        "text2 = \"\"\"\n",
        "Title: Anna Karenina  Author: Leo Tolstoy  Release Date: July 1, 1998\n",
        "[eBook #1399] [Most recently updated: September 20, 2022]  Language: English\n",
        "Character set encoding: UTF-8  Produced by: David Brannan, Andrew Sly and\n",
        "David Widger  *** START OF THE PROJECT GUTENBERG EBOOK ANNA KARENINA ***\n",
        "[Illustration] ANNA KARENINA by Leo Tolstoy Translated by Constance Garnett\n",
        "\"\"\"\n",
        "get_embedding(text)[:3]"
      ],
      "metadata": {
        "colab": {
          "base_uri": "https://localhost:8080/"
        },
        "id": "bmpKnFWAONwN",
        "outputId": "f0319150-5bc2-42e4-92aa-328db3092ce9"
      },
      "execution_count": null,
      "outputs": [
        {
          "output_type": "execute_result",
          "data": {
            "text/plain": [
              "[-0.005714867264032364, -0.007107621058821678, -0.014149853959679604]"
            ]
          },
          "metadata": {},
          "execution_count": 16
        }
      ]
    },
    {
      "cell_type": "code",
      "source": [
        "embeddings = [ get_embedding(text) for text in [text1, text2] ]\n",
        "embeddings_ = pd.DataFrame['text'].apply(embeddings)\n",
        "embeddings_"
      ],
      "metadata": {
        "id": "ZYo_zy61UPh9"
      },
      "execution_count": null,
      "outputs": []
    },
    {
      "cell_type": "markdown",
      "source": [
        "### **Working with images**"
      ],
      "metadata": {
        "id": "vXYEb41k1hXk"
      }
    },
    {
      "cell_type": "markdown",
      "source": [
        "**Extraction information from multimodal**\n",
        "- building agent for data analysis"
      ],
      "metadata": {
        "id": "HhjWZmvB1oUP"
      }
    },
    {
      "cell_type": "markdown",
      "source": [
        "**Using Graphs for queries**"
      ],
      "metadata": {
        "id": "D3d_leo81zN1"
      }
    }
  ]
}